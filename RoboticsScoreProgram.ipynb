{
  "nbformat": 4,
  "nbformat_minor": 0,
  "metadata": {
    "colab": {
      "name": "RoboticsScoreProgram.ipynb",
      "provenance": [],
      "toc_visible": true,
      "include_colab_link": true
    },
    "kernelspec": {
      "name": "python3",
      "display_name": "Python 3"
    }
  },
  "cells": [
    {
      "cell_type": "markdown",
      "metadata": {
        "id": "view-in-github",
        "colab_type": "text"
      },
      "source": [
        "<a href=\"https://colab.research.google.com/github/prushton2/VexScoringProgram/blob/master/RoboticsScoreProgram.ipynb\" target=\"_parent\"><img src=\"https://colab.research.google.com/assets/colab-badge.svg\" alt=\"Open In Colab\"/></a>"
      ]
    },
    {
      "cell_type": "markdown",
      "metadata": {
        "id": "vwKM16pJaJ8j",
        "colab_type": "text"
      },
      "source": [
        "# Class definitions"
      ]
    },
    {
      "cell_type": "markdown",
      "metadata": {
        "id": "PXJYezb31zXG",
        "colab_type": "text"
      },
      "source": [
        "## Json manager class"
      ]
    },
    {
      "cell_type": "code",
      "metadata": {
        "id": "52zP3yhEZc7q",
        "colab_type": "code",
        "colab": {}
      },
      "source": [
        "class JsonManager:\n",
        "  def __init__(self, path, fType): # fType should be score, comp, or team depending on which json file is being opened\n",
        "    self.path = path\n",
        "    self.fType = fType\n",
        "  def open():\n",
        "    #opens json file and returns data\n",
        "    with open(self.path, mode=\"r\") as teamFile:\n",
        "      return json.load(teamFile) \n",
        "      \n",
        "  def close(data):\n",
        "    #opens json file and saves data\n",
        "    with open(self.path, mode=\"w\") as teamFile:\n",
        "      json.dump(data, teamFile)\n",
        "\n",
        "  def addData()\n",
        "\n",
        "  \n",
        "    \n",
        "  "
      ],
      "execution_count": 0,
      "outputs": []
    },
    {
      "cell_type": "markdown",
      "metadata": {
        "id": "XnlfWGUe15Hk",
        "colab_type": "text"
      },
      "source": [
        "# Mount Google Drive\n"
      ]
    },
    {
      "cell_type": "code",
      "metadata": {
        "id": "QtKs3yP_eSxa",
        "colab_type": "code",
        "colab": {}
      },
      "source": [
        "from google.colab import drive\n",
        "drive.mount('/content/drive')"
      ],
      "execution_count": 0,
      "outputs": []
    },
    {
      "cell_type": "markdown",
      "metadata": {
        "id": "l8SZIzhE2JFx",
        "colab_type": "text"
      },
      "source": [
        "# Structure\n",
        "* Json Files\n",
        "  * Competitions:\n",
        "    * Holds every played match sorted by competition then time\n",
        "  * Scores\n",
        "    * Holds every team's score, and their score over time stored in a list\n",
        "  * Teams\n",
        "    * Stores every team, and every match they have played.\n",
        "\n",
        "# Backlog\n",
        "\n",
        "### Complete\n",
        "\n",
        "### In progress\n",
        "* Create Json manager class\n",
        "\n",
        "### TODO\n",
        "\n",
        "* Create competition class\n",
        "* Create competition ID system\n",
        "* Read and compile csvs into jsons\n",
        "  * Have a json for comps and a json for teams\n",
        "* Print a teams stats nicely\n",
        "* Create scoring system\n",
        "* Show scores over time\n",
        "\n",
        "# Sprint Task List\n",
        "\n",
        "#### Complete\n",
        "\n",
        "#### In progress\n",
        "* Instances define paths\n",
        "* Open and close function to save the values to a variable\n",
        "\n",
        "#### TODO\n",
        "* The class abstracts setting keys and values\n",
        "* Creates teams and comps\n",
        "* Controls teams, scores, and comps, and scores\n",
        "\n",
        "# Json format:\n",
        "## Comps:\n",
        "    {\n",
        "      \"CompName\":{\n",
        "        \"Matches\":[\n",
        "          [\n",
        "            \"matchName\",\n",
        "            [redScore, blueScore],\n",
        "            [red1, red2, blue1, blue2],\n",
        "            \"winner\"\n",
        "          ]\n",
        "        ],\n",
        "        \"Skills\": [\n",
        "          [\n",
        "            \"TeamName\",\n",
        "            [autonScore, driverScore]\n",
        "          ]\n",
        "        ]\n",
        "      }\n",
        "    }\n",
        "## Scores:\n",
        "\n",
        "    {\n",
        "      \"teamNumber\": [\n",
        "        score1,\n",
        "        score2,\n",
        "        score3...\n",
        "      ]\n",
        "    }\n",
        "\n",
        "## Teams:\n",
        "\n",
        "    {\n",
        "      \"teamNumber\": {\n",
        "        \"Matches: [\n",
        "          \"referenceToCompsJsonMatchIndex\",\n",
        "        ]\n",
        "      }\n",
        "    }\n",
        "\n",
        "\n"
      ]
    }
  ]
}