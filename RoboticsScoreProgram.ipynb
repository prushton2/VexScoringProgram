{
  "nbformat": 4,
  "nbformat_minor": 0,
  "metadata": {
    "colab": {
      "name": "RoboticsScoreProgram.ipynb",
      "provenance": [],
      "collapsed_sections": [],
      "toc_visible": true,
      "include_colab_link": true
    },
    "kernelspec": {
      "name": "python3",
      "display_name": "Python 3"
    }
  },
  "cells": [
    {
      "cell_type": "markdown",
      "metadata": {
        "id": "view-in-github",
        "colab_type": "text"
      },
      "source": [
        "<a href=\"https://colab.research.google.com/github/prushton2/VexScoringProgram/blob/master/RoboticsScoreProgram.ipynb\" target=\"_parent\"><img src=\"https://colab.research.google.com/assets/colab-badge.svg\" alt=\"Open In Colab\"/></a>"
      ]
    },
    {
      "cell_type": "markdown",
      "metadata": {
        "id": "XnlfWGUe15Hk",
        "colab_type": "text"
      },
      "source": [
        "# Mount Google Drive\n"
      ]
    },
    {
      "cell_type": "code",
      "metadata": {
        "id": "QtKs3yP_eSxa",
        "colab_type": "code",
        "outputId": "04603cde-814e-4908-c19d-5641938fbeb1",
        "colab": {
          "base_uri": "https://localhost:8080/",
          "height": 37
        }
      },
      "source": [
        "from google.colab import drive\n",
        "drive.mount('/content/drive', force_remount=False)"
      ],
      "execution_count": 181,
      "outputs": [
        {
          "output_type": "stream",
          "text": [
            "Drive already mounted at /content/drive; to attempt to forcibly remount, call drive.mount(\"/content/drive\", force_remount=True).\n"
          ],
          "name": "stdout"
        }
      ]
    },
    {
      "cell_type": "markdown",
      "metadata": {
        "id": "vwKM16pJaJ8j",
        "colab_type": "text"
      },
      "source": [
        "# Class definitions"
      ]
    },
    {
      "cell_type": "markdown",
      "metadata": {
        "id": "PXJYezb31zXG",
        "colab_type": "text"
      },
      "source": [
        "## Json manager class"
      ]
    },
    {
      "cell_type": "code",
      "metadata": {
        "id": "52zP3yhEZc7q",
        "colab_type": "code",
        "colab": {}
      },
      "source": [
        "import matplotlib.pyplot as plt\n",
        "import csv\n",
        "import json\n",
        "from termcolor import colored, cprint \n",
        "import time \n",
        "\n",
        "null = None #I can't be bothered to remember null is None in python\n",
        "true = True\n",
        "false = False\n",
        "\n",
        "\n",
        "class JsonManager:\n",
        "  def __init__(self, path, fType): # fType should be 'score', 'comp', or 'team' depending on which json file is being opened\n",
        "    self.path = path\n",
        "    self.fType = fType\n",
        "  def load(self):\n",
        "    #opens json file and returns data\n",
        "    with open(self.path, mode=\"r\") as theFile:\n",
        "      return json.load(theFile) \n",
        "      \n",
        "  def save(self, data):\n",
        "    #opens json file and saves data\n",
        "    with open(self.path, mode=\"w\") as theFile:\n",
        "      json.dump(data, theFile)\n",
        "\n",
        "  def addData(self, key, value, function): #Adds data to a json key, but abstracted. \n",
        "    jsonFile = self.load()#JsonManager.open()\n",
        "\n",
        "    if(function == 'set'):\n",
        "      exec(\"jsonFile\"+str(key)+\" = \"+str(value))\n",
        "    elif(function == 'append'):\n",
        "      exec(\"jsonFile\"+str(key)+\".append(\"+str(value)+\")\")\n",
        "    else:\n",
        "      raise ValueError(\"The function parameter must be 'set' or 'append', not\", function)\n",
        "    self.save(jsonFile)\n",
        "\n",
        "  "
      ],
      "execution_count": 0,
      "outputs": []
    },
    {
      "cell_type": "markdown",
      "metadata": {
        "id": "fd-oma4N1zOd",
        "colab_type": "text"
      },
      "source": [
        "## Competition Manager"
      ]
    },
    {
      "cell_type": "code",
      "metadata": {
        "id": "lcBFQR0oZ0Uz",
        "colab_type": "code",
        "colab": {}
      },
      "source": [
        "class Comp: #This is used as a datatype to hold the data for a competition\n",
        "  def __init__(self, id, name, date, path):\n",
        "    self.id = id;\n",
        "    self.name = name;\n",
        "    self.date = date;\n",
        "    self.path = path;\n",
        "\n",
        "  \n",
        "\n",
        "class AllComps:\n",
        "  def __init__(self, compList):\n",
        "    self.compList = compList;\n",
        "  def getCompFromId(self, id):\n",
        "    for i in self.compList:\n",
        "      if(i.id == id):\n",
        "        return i"
      ],
      "execution_count": 0,
      "outputs": []
    },
    {
      "cell_type": "markdown",
      "metadata": {
        "id": "7OOAGRfsKBHf",
        "colab_type": "text"
      },
      "source": [
        "## Compiler"
      ]
    },
    {
      "cell_type": "code",
      "metadata": {
        "id": "C267r9lcKA0I",
        "colab_type": "code",
        "colab": {}
      },
      "source": [
        "class Compiler:\n",
        "  def __init__(self, comps):\n",
        "    self.comps = comps;\n",
        "\n",
        "  def setCompIDs(self, comps):\n",
        "    self.comps = comps\n",
        "  \n",
        "  def compileComps(self): # Will compile the csv data into the jsons.\n",
        "    for thisComp in self.comps:\n",
        "      compFile.addData('['+str(thisComp.id)+']', {\"Matches\":[],\"Skills\":[]}, 'set')\n",
        "\n",
        "      with open(thisComp.path, mode='r') as thisFile:\n",
        "        reader = csv.DictReader(thisFile)\n",
        "        line_count=0\n",
        "        for row in reader:\n",
        "          print(\"Adding match\", row[\"Match\"], \"of comp\", thisComp.name)\n",
        "          if(int(row[\"Red Score\"]) > int(row[\"Blue Score\"])):\n",
        "            winner = 'Red'\n",
        "          elif(int(row[\"Blue Score\"]) > int(row[\"Red Score\"])):\n",
        "            winner = 'Blue'\n",
        "          else:\n",
        "            winner = null\n",
        "          thisMatch = [\n",
        "            row[\"Match\"],\n",
        "            thisComp.id, \n",
        "            [int(row[\"Red Score\"]), int(row[\"Blue Score\"])],\n",
        "            [row[\"Red Team (1)\"], row[\"Red Team (2)\"]], \n",
        "            [row[\"Blue Team (1)\"], row[\"Blue Team (2)\"]],\n",
        "            winner\n",
        "          ]\n",
        "\n",
        "          compFile.addData('[\"'+str(thisComp.id)+'\"][\"Matches\"]', thisMatch, 'append')\n",
        "  \n",
        "  def compileTeams(self):\n",
        "    json = compFile.load()\n",
        "    for i in json:\n",
        "      for j in json[i][\"Matches\"]:\n",
        "        for k in j[3]:\n",
        "          try:\n",
        "            teamFile.addData(\"['\"+k+\"']['Matches']\", j, 'append')\n",
        "            print(\"Added\", j, \"to team\", k)\n",
        "          except:\n",
        "            teamFile.addData(\"['\"+k+\"']\", {\"Matches\":[j],\"Skills\":[]}, 'set')\n",
        "            print(\"Created team\", k, \"with match\", j)\n",
        "        for k in j[4]:\n",
        "          try:\n",
        "            teamFile.addData(\"['\"+k+\"']['Matches']\", j, 'append')\n",
        "            print(\"Added\", j, \"to team\", k)\n",
        "          except:\n",
        "            teamFile.addData(\"['\"+k+\"']\", {\"Matches\":[j],\"Skills\":[]}, 'set')\n",
        "            print(\"Created team\", k, \"with match\", j)\n",
        "\n",
        "  def compileScores(self):\n",
        "    scores = scoreFile.load();\n",
        "    teams = teamFile.load();\n",
        "    for team in teams:\n",
        "      scoreFile.addData(\"['\"+team+\"']\", [0], 'set')\n",
        "      print(\"Created a record for team\", team, \"with 0 points\")\n",
        "      for match in teams[team][\"Matches\"]:\n",
        "        scores = scoreFile.load();\n",
        "        if(match[5] == 'Red'): #Create the number to add/subtract to the players score\n",
        "          delta =  (int(match[2][0]) / (int(match[2][0]) + int(match[2][1])))*100\n",
        "        if(match[5] == 'Blue'):\n",
        "          delta =  (int(match[2][1]) / (int(match[2][0]) + int(match[2][1])))*100\n",
        "        if(match[5] == null):\n",
        "          delta = 0\n",
        "        \n",
        "        if(not(MatchHandler.hasWon(team, match))):\n",
        "          delta *= -1;\n",
        "\n",
        "        # print(team)\n",
        "        z = (scores[team][len(scores[team])-1] + delta)\n",
        "        scoreFile.addData('[\"'+team+'\"]', z, 'append')\n",
        "        print(\"Added\", delta, \"points to the record for team\", team)\n",
        "\n",
        "          \n",
        "        \n"
      ],
      "execution_count": 0,
      "outputs": []
    },
    {
      "cell_type": "markdown",
      "metadata": {
        "id": "Ksl-X3m4Tphm",
        "colab_type": "text"
      },
      "source": [
        "## Match Handler"
      ]
    },
    {
      "cell_type": "code",
      "metadata": {
        "id": "TiyR4CJjTrm-",
        "colab_type": "code",
        "colab": {}
      },
      "source": [
        "class MatchHandler:\n",
        "  @staticmethod\n",
        "      \n",
        "  def getColor(team, match):\n",
        "    if(team == match[3][0] or team == match[3][1]):\n",
        "      return \"Red\"\n",
        "    if(team == match[4][0] or team == match[4][1]):\n",
        "      return \"Blue\"\n",
        "\n",
        "  def hasWon(team, match):\n",
        "    if(MatchHandler.getColor(team, match) == match[5]):\n",
        "      return True\n",
        "    else:\n",
        "      return False # set cube stack"
      ],
      "execution_count": 0,
      "outputs": []
    },
    {
      "cell_type": "markdown",
      "metadata": {
        "id": "LafdCIEvMxQz",
        "colab_type": "text"
      },
      "source": [
        "## Team Class"
      ]
    },
    {
      "cell_type": "code",
      "metadata": {
        "id": "6H_uxiwZMxct",
        "colab_type": "code",
        "colab": {}
      },
      "source": [
        "class Team:\n",
        "  def __init__(self, teamName):\n",
        "    self.team = teamName;\n",
        "\n",
        "  def hasCategory(self, category, categories):\n",
        "    return category in categories or \"all\" == categories\n",
        "\n",
        "  def showStats(self, categories):\n",
        "    if(self.hasCategory(\"matches\", categories)):\n",
        "      teams = teamFile.load();\n",
        "      for i in teams[self.team][\"Matches\"]:\n",
        "        print(allComps.getCompFromId(i[1]).name, \"on\", allComps.getCompFromId(i[1]).date, \"   |   \", end=\"\")\n",
        "        \n",
        "        if(MatchHandler.hasWon(self.team, i)):\n",
        "          color='green'\n",
        "        elif(i[5] == null):\n",
        "          color='grey'\n",
        "        else:\n",
        "          color='red'\n",
        "        \n",
        "        print(colored(i[0], color, attrs=['reverse', 'blink']), end='')\n",
        "        print(\"  |  \", end='')\n",
        "\n",
        "        if(i[5] == null):\n",
        "          print(colored(i[3][0]+\", \"+i[3][1]+\" : \"+str(i[2][0])+\" vs \"+str(i[2][1])+\" : \"+i[4][0]+\", \"+i[4][1], 'grey'), end='')\n",
        "\n",
        "        if(i[5] == 'Red'):\n",
        "          print(colored(i[3][0]+\", \"+i[3][1]+\" : \"+str(i[2][0])+\" vs \", 'red'), end='')\n",
        "          print(str(i[2][1])+\" : \"+i[4][0]+\", \"+i[4][1], end='')\n",
        "\n",
        "        if(i[5] == 'Blue'):\n",
        "          print(i[3][0]+\", \"+i[3][1]+\" : \"+str(i[2][0]), end='')\n",
        "          print(colored(\" vs \"+str(i[2][1])+\" : \"+i[4][0]+\", \"+i[4][1], 'blue'), end='')\n",
        "\n",
        "        print(\"\")\n",
        "\n",
        "    if(self.hasCategory(\"scores\", categories)):\n",
        "      mplCreator.newPlot(false, s1.getScores(self.team), 'Scores')\n",
        "\n",
        "    if(self.hasCategory(\"rank\", categories)):\n",
        "      print(self.team, \"is placed\", str(s1.getRank(self.team))+\"/\"+str(s1.getTeamCount()), end='')   \n",
        "\n",
        "    if(self.hasCategory(\"score\", categories)):\n",
        "      if(self.hasCategory(\"rank\", categories)):\n",
        "        print(\" and has\", s1.getScore(self.team), \"points\")\n",
        "      else:\n",
        "        print(self.team, \"has\", s1.getScore(self.team), 'points')\n",
        "    print('')\n",
        "    \n",
        "        \n",
        "        \n",
        "          "
      ],
      "execution_count": 0,
      "outputs": []
    },
    {
      "cell_type": "markdown",
      "metadata": {
        "id": "PYuURiGlnHoo",
        "colab_type": "text"
      },
      "source": [
        "## Matplotlib Creators"
      ]
    },
    {
      "cell_type": "code",
      "metadata": {
        "id": "jY1Vw_PfnHcS",
        "colab_type": "code",
        "colab": {}
      },
      "source": [
        "class mplCreator:\n",
        "  @staticmethod\n",
        "  def getArrayOfLength(length):\n",
        "    array = []\n",
        "    for i in range(length):\n",
        "      array.append(i)\n",
        "    return array\n",
        "\n",
        "  def newPlot(xArray, yArray, title):\n",
        "    fig, ax = plt.subplots()\n",
        "    #Create a plot instance\n",
        "    \n",
        "    #make it dark\n",
        "    # https://matplotlib.org/3.1.1/tutorials/introductory/customizing.html\n",
        "    plt.rcParams.update({\n",
        "        \"lines.color\": \"white\",\n",
        "        \"patch.edgecolor\": \"white\",\n",
        "        \"text.color\": \"black\",\n",
        "        \"axes.facecolor\": \"black\",\n",
        "        \"axes.edgecolor\": \"lightgray\",\n",
        "        \"axes.labelcolor\": \"white\",\n",
        "        \"xtick.color\": \"white\",\n",
        "        \"ytick.color\": \"white\",\n",
        "        \"grid.color\": \"lightgray\",\n",
        "        \"figure.facecolor\": \"black\",\n",
        "        \"figure.edgecolor\": \"black\",\n",
        "        \"savefig.facecolor\": \"black\",\n",
        "        \"savefig.edgecolor\": \"black\"})\n",
        "    #Place points on the graph\n",
        "    if(xArray == False and yArray == False):\n",
        "      print(\"We need a list, not 2 booleans\")\n",
        "    if(xArray == False):\n",
        "      xArray = mplCreator.getArrayOfLength(len(yArray))\n",
        "    if(yArray == False):\n",
        "      yArray = mplCreator.getArrayOfLength(len(xArray))\n",
        "\n",
        "    for i in range(len(yArray)):#Color in the lines fron point to point based on gain or loss\n",
        "      try:\n",
        "        if(yArray[i] > yArray[i+1]):\n",
        "          ax.plot([xArray[i], xArray[i+1]], [yArray[i], yArray[i+1]], color='r')\n",
        "        elif(yArray[i] < yArray[i+1]):\n",
        "          ax.plot([xArray[i], xArray[i+1]], [yArray[i], yArray[i+1]], color='g')\n",
        "        else:\n",
        "          ax.plot([xArray[i], xArray[i+1]], [yArray[i], yArray[i+1]], color='b')\n",
        "      except:\n",
        "        print(\"\")\n",
        "    ax.scatter(xArray, yArray)\n",
        "    #Set the title\n",
        "    ax.set_title(title)\n",
        "    #Show the plot\n",
        "    fig.show()"
      ],
      "execution_count": 0,
      "outputs": []
    },
    {
      "cell_type": "markdown",
      "metadata": {
        "id": "qBiWE21piCOF",
        "colab_type": "text"
      },
      "source": [
        "## Score Class"
      ]
    },
    {
      "cell_type": "code",
      "metadata": {
        "id": "B9Zzkt35iCnk",
        "colab_type": "code",
        "colab": {}
      },
      "source": [
        "class Score:\n",
        "  def __init__(self):\n",
        "    self.Ranks = []\n",
        "  \n",
        "\n",
        "  def rankTeams(self):\n",
        "    IMM_scores = scoreFile.load()\n",
        "    self.Ranks = []\n",
        "    self.teams = []\n",
        "    self.newScores = {}\n",
        "    for i in IMM_scores:\n",
        "      self.teams.append(i)\n",
        "    print(self.teams)\n",
        "\n",
        "    for team in IMM_scores:\n",
        "      teamScore = IMM_scores[team][-1]\n",
        "      rankFound = false\n",
        "      print(team)\n",
        "\n",
        "      for i in range(len(self.Ranks)):\n",
        "        print(self.Ranks[i], \":\", IMM_scores[self.Ranks[i]][-1], \"||\", end='')\n",
        "\n",
        "\n",
        "      if(self.Ranks == []):\n",
        "        self.Ranks = [team]\n",
        "        print(\"--- Initialized ranks with team\", team)\n",
        "      else:\n",
        "        i=-1\n",
        "        while(not(rankFound)):\n",
        "          i += 1\n",
        "          # print(\"--- Index:\", i)\n",
        "          try:\n",
        "            comparisonScore = IMM_scores[self.Ranks[i]][-1]\n",
        "            # print(\"--- Comparison: Team:\", self.Ranks[i], \"Score:\", comparisonScore)\n",
        "            # print(\"--- This: Team:\", team, \"Score:\", teamScore)\n",
        "\n",
        "            if(teamScore > comparisonScore):\n",
        "              # print(\"---\", teamScore, \">\", comparisonScore)\n",
        "              print(\"--- found a spot for\", team, \"at place\", i)\n",
        "              rankFound = true\n",
        "              self.Ranks.insert(i, team)\n",
        "            else:\n",
        "              pass\n",
        "              # print(\"---\", teamScore, \"<\", comparisonScore)\n",
        "          except:\n",
        "            rankFound = true\n",
        "            self.Ranks.append(team)\n",
        "            print(\"--- Hit list limit at\", i, \"appending\", team, \"to ranks list\")\n",
        "            i=-1\n",
        "      pass\n",
        "      self.newScores = {}\n",
        "      for i in self.Ranks:\n",
        "        self.newScores[i] = IMM_scores[i]\n",
        "        # print(i, newScores[i])\n",
        "      scoreFile.save(self.newScores)\n",
        "    \n",
        "  def getRank(self, givenTeam):\n",
        "    scores = scoreFile.load()\n",
        "    i = 0\n",
        "    for team in scores:\n",
        "      i += 1\n",
        "      if(givenTeam == team):\n",
        "        return i\n",
        "\n",
        "  def getScore(self, givenTeam):\n",
        "    scores = scoreFile.load()\n",
        "    for team in scores:\n",
        "      if(givenTeam == team):\n",
        "        return scores[team][-1]\n",
        "\n",
        "  def getScores(self, givenTeam):\n",
        "    scores = scoreFile.load()\n",
        "    for team in scores:\n",
        "      if(givenTeam == team):\n",
        "        return scores[team]\n",
        "\n",
        "  def getTeamCount(self):\n",
        "    i=0\n",
        "    scores = scoreFile.load()\n",
        "    for j in scores:\n",
        "      i += 1\n",
        "    return i\n",
        "\n",
        "  def showRanks(self):\n",
        "    scores = scoreFile.load()\n",
        "    i = 0\n",
        "    for team in scores:\n",
        "      i += 1\n",
        "      print(str(i)+\":\", team, \"with a score of\", scores[team][-1])"
      ],
      "execution_count": 0,
      "outputs": []
    },
    {
      "cell_type": "markdown",
      "metadata": {
        "id": "9b17lzILBItj",
        "colab_type": "text"
      },
      "source": [
        "# Instantiations"
      ]
    },
    {
      "cell_type": "code",
      "metadata": {
        "id": "9YLj2OFjBLmC",
        "colab_type": "code",
        "colab": {}
      },
      "source": [
        "localpath = \"/content/drive/My Drive/RoboticsScoreProgram/Competitions\"\n",
        "compList = [\n",
        "            Comp(0.0,  \"Hartford\",                        \"10/19/19\", localpath+\"/VRC_10_19_19_Hartford.csv\"),\n",
        "            Comp(1.0,  \"Quinsigamond Community College\",  \"11/02/19\", localpath+\"/VRC_11_02_19_Madison.csv\"),\n",
        "            Comp(2.0,  \"Madison CT\",                      \"11/02/19\", localpath+\"/VRC_11_02_19_QCC.csv\"),\n",
        "            Comp(3.0,  \"Framingham\",                      \"11/09/19\", localpath+\"/VRC_11_09_19_Framingham.csv\"),\n",
        "            Comp(4.0,  \"Danbury\",                         \"11/16/19\", localpath+\"/VRC_11_16_19_Monroe.csv\"),\n",
        "            Comp(5.0,  \"North Andover\",                   \"11/23/19\", localpath+\"/VRC_11_23_19_NorthAndover.csv\"),\n",
        "            Comp(6.0,  \"Hopkinton\",                       \"12/07/19\", localpath+\"/VRC_12_07_19_Hopkinton.csv\"),\n",
        "            Comp(7.0,  \"CTEEA Masuk\",                     \"12/07/19\", localpath+\"/VRC_12_07_19_Masuk.csv\"),\n",
        "            Comp(8.0,  \"Quinsigamond Community College\",  \"12/21/19\", localpath+\"/VRC_12_21_19_QCC.csv\"),\n",
        "            Comp(9.0,  \"CTEEA Bolton CT\",                 \"01/04/20\", localpath+\"/VRC_01_04_20_CTEEABolton.csv\"),\n",
        "            Comp(10.0, \"Quinsigamond Community College\",  \"01/04/20\", localpath+\"/VRC_01_04_20_QCC.csv\"),\n",
        "            Comp(11.0, \"CTEEA Middleton\",                 \"01/11/20\", localpath+\"/VRC_01_11_20_CTEEAMiddleton.csv\"),\n",
        "            Comp(12.0, \"Wave at WPI\",                     \"01/16/20\", localpath+\"/VRC_01_16_20_Wave.csv\"),\n",
        "            Comp(13.0, \"Hopkinton\",                       \"01/19/20\", localpath+\"/VRC_01_19_20_Hopkinton.csv\")\n",
        "\n",
        "]\n",
        "# print(compList[-1])\n",
        "\n",
        "allComps = AllComps(compList)\n",
        "compiler = Compiler(compList)\n",
        "\n",
        "s1 = Score()\n",
        "\n",
        "compFile = JsonManager(\"/content/drive/My Drive/RoboticsScoreProgram/Json/Comps.json\", 'comp')\n",
        "teamFile = JsonManager(\"/content/drive/My Drive/RoboticsScoreProgram/Json/Teams.json\", 'team')\n",
        "scoreFile = JsonManager(\"/content/drive/My Drive/RoboticsScoreProgram/Json/Scores.json\", 'score')"
      ],
      "execution_count": 0,
      "outputs": []
    },
    {
      "cell_type": "markdown",
      "metadata": {
        "id": "sTTilc3b6rEV",
        "colab_type": "text"
      },
      "source": [
        "# Compiling\n",
        "Compiles the CSV files into the JSON files"
      ]
    },
    {
      "cell_type": "code",
      "metadata": {
        "id": "oTQ-yNk86s_D",
        "colab_type": "code",
        "colab": {}
      },
      "source": [
        "if(false): #This compiles the CSV files to the JSON files. Do not run unless you have made changes to the CSV files or the compiler code\n",
        "  startTime = time.time()\n",
        "  compFile.save({})\n",
        "  teamFile.save({})\n",
        "  scoreFile.save({})\n",
        "\n",
        "  compiler.compileComps()\n",
        "  compiler.compileTeams()\n",
        "  compiler.compileScores()\n",
        "\n",
        "  s1.rankTeams()\n",
        "\n",
        "  print(\"Operation took\", time.time()-startTime,\"seconds\")\n"
      ],
      "execution_count": 0,
      "outputs": []
    },
    {
      "cell_type": "markdown",
      "metadata": {
        "id": "zKkK6DxjIUlV",
        "colab_type": "text"
      },
      "source": [
        "# Debug"
      ]
    },
    {
      "cell_type": "code",
      "metadata": {
        "id": "vKVn4GDtra-a",
        "colab_type": "code",
        "outputId": "382e72b8-9bac-4dd1-ee2f-0023eba42f04",
        "colab": {
          "base_uri": "https://localhost:8080/",
          "height": 37
        }
      },
      "source": [
        "IMM_scores = scoreFile.load()\n",
        "teams = ['977Z']\n",
        "IMM_scores[teams[0]\n",
        "           ][-1]"
      ],
      "execution_count": 191,
      "outputs": [
        {
          "output_type": "execute_result",
          "data": {
            "text/plain": [
              "1258.2226352308212"
            ]
          },
          "metadata": {
            "tags": []
          },
          "execution_count": 191
        }
      ]
    },
    {
      "cell_type": "markdown",
      "metadata": {
        "id": "yEkpdhPeMoru",
        "colab_type": "text"
      },
      "source": [
        "# Show a team's scores"
      ]
    },
    {
      "cell_type": "code",
      "metadata": {
        "id": "TAqvknl5Mo-E",
        "colab_type": "code",
        "colab": {
          "base_uri": "https://localhost:8080/",
          "height": 1000
        },
        "outputId": "da099c8b-5010-4a88-eac1-bc5cb0e21274"
      },
      "source": [
        "a977Z = Team(\"977Z\")\n",
        "a977Z.showStats('all')"
      ],
      "execution_count": 195,
      "outputs": [
        {
          "output_type": "stream",
          "text": [
            "Framingham on 11/09/19    |   \u001b[5m\u001b[7m\u001b[32mQualifier #8\u001b[0m  |  10102A, 2442E : 4\u001b[34m vs 36 : 977Z, 63857A\u001b[0m\n",
            "Framingham on 11/09/19    |   \u001b[5m\u001b[7m\u001b[31mQualifier #15\u001b[0m  |  977Z, 4716A : 18\u001b[34m vs 24 : 9228B, 4716D\u001b[0m\n",
            "Framingham on 11/09/19    |   \u001b[5m\u001b[7m\u001b[32mQualifier #19\u001b[0m  |  \u001b[31m977Z, 9228A : 15 vs \u001b[0m10 : 3379A, 1898M\n",
            "Framingham on 11/09/19    |   \u001b[5m\u001b[7m\u001b[32mQualifier #28\u001b[0m  |  48425A, 2442A : 23\u001b[34m vs 40 : 977Z, 1898R\u001b[0m\n",
            "Framingham on 11/09/19    |   \u001b[5m\u001b[7m\u001b[32mQualifier #42\u001b[0m  |  785Z, 64345A : 5\u001b[34m vs 12 : 977Z, 785E\u001b[0m\n",
            "Framingham on 11/09/19    |   \u001b[5m\u001b[7m\u001b[32mQualifier #52\u001b[0m  |  \u001b[31m977Z, 63857D : 30 vs \u001b[0m12 : 9421R, 4344X\n",
            "Framingham on 11/09/19    |   \u001b[5m\u001b[7m\u001b[32mQualifier #56\u001b[0m  |  \u001b[31m10102X, 977Z : 12 vs \u001b[0m3 : 9421V, 2713B\n",
            "Framingham on 11/09/19    |   \u001b[5m\u001b[7m\u001b[32mQualifier #66\u001b[0m  |  2713A, 9421X : 27\u001b[34m vs 34 : 977Z, 1898A\u001b[0m\n",
            "Framingham on 11/09/19    |   \u001b[5m\u001b[7m\u001b[32mR16 #3-1\u001b[0m  |  \u001b[31m1898A, 977Z : 39 vs \u001b[0m15 : 10102X, 10102A\n",
            "Framingham on 11/09/19    |   \u001b[5m\u001b[7m\u001b[32mQF #2-1\u001b[0m  |  \u001b[31m1898A, 977Z : 19 vs \u001b[0m3 : 63857E, 9421X\n",
            "Framingham on 11/09/19    |   \u001b[5m\u001b[7m\u001b[31mSF #1-1\u001b[0m  |  \u001b[31m1898R, 375X : 28 vs \u001b[0m20 : 1898A, 977Z\n",
            "North Andover on 11/23/19    |   \u001b[5m\u001b[7m\u001b[32mQualifier #9\u001b[0m  |  \u001b[31m977Z, 4478D : 30 vs \u001b[0m2 : 99928C, 81118P\n",
            "North Andover on 11/23/19    |   \u001b[5m\u001b[7m\u001b[31mQualifier #21\u001b[0m  |  8568B, 977Z : 20\u001b[34m vs 22 : 4716D, 1784X\u001b[0m\n",
            "North Andover on 11/23/19    |   \u001b[5m\u001b[7m\u001b[32mQualifier #37\u001b[0m  |  8568F, 8568G : 4\u001b[34m vs 14 : 2602E, 977Z\u001b[0m\n",
            "North Andover on 11/23/19    |   \u001b[5m\u001b[7m\u001b[31mQualifier #52\u001b[0m  |  \u001b[31m41364A, 785Z : 34 vs \u001b[0m28 : 30906A, 977Z\n",
            "North Andover on 11/23/19    |   \u001b[5m\u001b[7m\u001b[32mQualifier #71\u001b[0m  |  \u001b[31m977Z, 1898R : 69 vs \u001b[0m22 : 99928B, 2602G\n",
            "North Andover on 11/23/19    |   \u001b[5m\u001b[7m\u001b[31mQualifier #84\u001b[0m  |  \u001b[31m63857A, 697D : 35 vs \u001b[0m14 : 99928A, 977Z\n",
            "Hopkinton on 12/07/19    |   \u001b[5m\u001b[7m\u001b[32mQualifier #2\u001b[0m  |  \u001b[31m1898R, 977Z : 47 vs \u001b[0m22 : 2602C, 2442A\n",
            "Hopkinton on 12/07/19    |   \u001b[5m\u001b[7m\u001b[32mQualifier #8\u001b[0m  |  \u001b[31m1898M, 977Z : 28 vs \u001b[0m15 : 2602H, 2602D\n",
            "Hopkinton on 12/07/19    |   \u001b[5m\u001b[7m\u001b[31mQualifier #16\u001b[0m  |  \u001b[31m2442B, 2442F : 39 vs \u001b[0m10 : 977Z, 2602C\n",
            "Hopkinton on 12/07/19    |   \u001b[5m\u001b[7m\u001b[30mQualifier #20\u001b[0m  |  \u001b[30m2602K, 2602M : 18 vs 18 : 1898S, 977Z\u001b[0m\n",
            "Hopkinton on 12/07/19    |   \u001b[5m\u001b[7m\u001b[32mQualifier #24\u001b[0m  |  2602B, 2602G : 9\u001b[34m vs 30 : 2602F, 977Z\u001b[0m\n",
            "Hopkinton on 12/07/19    |   \u001b[5m\u001b[7m\u001b[31mQualifier #28\u001b[0m  |  977Z, 15797A : 11\u001b[34m vs 20 : 2602A, 2602E\u001b[0m\n",
            "Hopkinton on 12/07/19    |   \u001b[5m\u001b[7m\u001b[31mQF #4-1\u001b[0m  |  \u001b[31m2442F, 2442B : 49 vs \u001b[0m38 : 977Z, 1898M\n",
            "Quinsigamond Community College on 12/21/19    |   \u001b[5m\u001b[7m\u001b[32mQualifier #10\u001b[0m  |  \u001b[31m977Z, 10102A : 33 vs \u001b[0m6 : 75735B, 3379A\n",
            "Quinsigamond Community College on 12/21/19    |   \u001b[5m\u001b[7m\u001b[32mQualifier #26\u001b[0m  |  55550W, 58566B : 2\u001b[34m vs 17 : 2442F, 977Z\u001b[0m\n",
            "Quinsigamond Community College on 12/21/19    |   \u001b[5m\u001b[7m\u001b[32mQualifier #40\u001b[0m  |  81118P, 75735C : 10\u001b[34m vs 18 : 977Z, 4344Z\u001b[0m\n",
            "Quinsigamond Community College on 12/21/19    |   \u001b[5m\u001b[7m\u001b[30mQualifier #49\u001b[0m  |  \u001b[30m6181A, 977Z : 13 vs 13 : 49585B, 1615A\u001b[0m\n",
            "Quinsigamond Community College on 12/21/19    |   \u001b[5m\u001b[7m\u001b[31mQualifier #56\u001b[0m  |  977Z, 99928A : 23\u001b[34m vs 24 : 9421R, 6181B\u001b[0m\n",
            "Quinsigamond Community College on 12/21/19    |   \u001b[5m\u001b[7m\u001b[31mQualifier #80\u001b[0m  |  977Z, 2442A : 37\u001b[34m vs 38 : 85127A, 2442B\u001b[0m\n",
            "Quinsigamond Community College on 12/21/19    |   \u001b[5m\u001b[7m\u001b[31mQualifier #86\u001b[0m  |  \u001b[31m9421X, 549C : 64 vs \u001b[0m21 : 785B, 977Z\n",
            "Quinsigamond Community College on 12/21/19    |   \u001b[5m\u001b[7m\u001b[31mR16 #8-1\u001b[0m  |  785E, 977Z : 15\u001b[34m vs 17 : 85127A, 10102A\u001b[0m\n",
            "Quinsigamond Community College on 01/04/20    |   \u001b[5m\u001b[7m\u001b[32mQualifier #10\u001b[0m  |  4344Y, 99928C : 2\u001b[34m vs 26 : 977Z, 5313C\u001b[0m\n",
            "Quinsigamond Community College on 01/04/20    |   \u001b[5m\u001b[7m\u001b[30mQualifier #19\u001b[0m  |  \u001b[30m2606A, 977Z : 8 vs 8 : 5313A, 9421V\u001b[0m\n",
            "Quinsigamond Community College on 01/04/20    |   \u001b[5m\u001b[7m\u001b[31mQualifier #23\u001b[0m  |  977Z, 8884B : 6\u001b[34m vs 8 : 99928E, 99928B\u001b[0m\n",
            "Quinsigamond Community College on 01/04/20    |   \u001b[5m\u001b[7m\u001b[32mQualifier #31\u001b[0m  |  1618A, 55550X : 6\u001b[34m vs 16 : 817F, 977Z\u001b[0m\n",
            "Quinsigamond Community College on 01/04/20    |   \u001b[5m\u001b[7m\u001b[32mQualifier #41\u001b[0m  |  \u001b[31m4716A, 977Z : 16 vs \u001b[0m5 : 4344X, 817B\n",
            "Quinsigamond Community College on 01/04/20    |   \u001b[5m\u001b[7m\u001b[32mQualifier #58\u001b[0m  |  8884A, 85127A : 4\u001b[34m vs 20 : 977Z, 10900Z\u001b[0m\n",
            "Quinsigamond Community College on 01/04/20    |   \u001b[5m\u001b[7m\u001b[32mQualifier #67\u001b[0m  |  \u001b[31m99928D, 977Z : 20 vs \u001b[0m4 : 46024E, 4344Z\n",
            "Quinsigamond Community College on 01/04/20    |   \u001b[5m\u001b[7m\u001b[32mR16 #7-1\u001b[0m  |  \u001b[31m977Z, 1615A : 26 vs \u001b[0m8 : 2606A, 46024E\n",
            "Quinsigamond Community College on 01/04/20    |   \u001b[5m\u001b[7m\u001b[32mQF #4-1\u001b[0m  |  \u001b[31m977Z, 1615A : 18 vs \u001b[0m10 : 2606C, 8828A\n",
            "Quinsigamond Community College on 01/04/20    |   \u001b[5m\u001b[7m\u001b[32mSF #2-1\u001b[0m  |  2606B, 10102X : 14\u001b[34m vs 36 : 977Z, 1615A\u001b[0m\n",
            "Quinsigamond Community College on 01/04/20    |   \u001b[5m\u001b[7m\u001b[31mFinal #1-1\u001b[0m  |  \u001b[31m375X, 81118P : 49 vs \u001b[0m46 : 977Z, 1615A\n",
            "Wave at WPI on 01/16/20    |   \u001b[5m\u001b[7m\u001b[32mQualifier #1\u001b[0m  |  404Y, 1353X : 5\u001b[34m vs 12 : 977Z, 9909B\u001b[0m\n",
            "Wave at WPI on 01/16/20    |   \u001b[5m\u001b[7m\u001b[32mQualifier #27\u001b[0m  |  2602H, 5150J : 34\u001b[34m vs 60 : 977Z, 169A\u001b[0m\n",
            "Wave at WPI on 01/16/20    |   \u001b[5m\u001b[7m\u001b[32mQualifier #46\u001b[0m  |  \u001b[31m977Z, 2442A : 47 vs \u001b[0m32 : 2616Z, 2381Z\n",
            "Wave at WPI on 01/16/20    |   \u001b[5m\u001b[7m\u001b[32mQualifier #64\u001b[0m  |  \u001b[31m977Z, 2142D : 39 vs \u001b[0m13 : 4478F, 9909F\n",
            "Wave at WPI on 01/16/20    |   \u001b[5m\u001b[7m\u001b[31mQualifier #94\u001b[0m  |  977Z, 25600S : 19\u001b[34m vs 22 : 63857A, 9421X\u001b[0m\n",
            "Wave at WPI on 01/16/20    |   \u001b[5m\u001b[7m\u001b[31mQualifier #107\u001b[0m  |  \u001b[31m242Y, 3303D : 33 vs \u001b[0m15 : 977Z, 785A\n",
            "Wave at WPI on 01/16/20    |   \u001b[5m\u001b[7m\u001b[31mQualifier #133\u001b[0m  |  \u001b[31m785E, 369A : 32 vs \u001b[0m10 : 3303X, 977Z\n",
            "Wave at WPI on 01/16/20    |   \u001b[5m\u001b[7m\u001b[31mQualifier #154\u001b[0m  |  \u001b[31m2442F, 25600X : 19 vs \u001b[0m12 : 375X, 977Z\n",
            "Wave at WPI on 01/16/20    |   \u001b[5m\u001b[7m\u001b[32mQualifier #176\u001b[0m  |  \u001b[31m977Z, 2602G : 20 vs \u001b[0m10 : 62B, 11442Z\n",
            "Wave at WPI on 01/16/20    |   \u001b[5m\u001b[7m\u001b[31mQualifier #194\u001b[0m  |  2442B, 977Z : 6\u001b[34m vs 23 : 7121E, 404X\u001b[0m\n",
            "Wave at WPI on 01/16/20    |   \u001b[5m\u001b[7m\u001b[31mR16 #2-1\u001b[0m  |  \u001b[31m2442B, 169Z : 38 vs \u001b[0m29 : 977Z, 41364A\n",
            "Hopkinton on 01/19/20    |   \u001b[5m\u001b[7m\u001b[32mQualifier #5\u001b[0m  |  \u001b[31m2602C, 977Z : 7 vs \u001b[0m3 : 99928E, 63857B\n",
            "Hopkinton on 01/19/20    |   \u001b[5m\u001b[7m\u001b[31mQualifier #11\u001b[0m  |  \u001b[31m2602F, 2602D : 25 vs \u001b[0m4 : 977Z, 2602K\n",
            "Hopkinton on 01/19/20    |   \u001b[5m\u001b[7m\u001b[31mQualifier #17\u001b[0m  |  977Z, 99928C : 24\u001b[34m vs 36 : 2602D, 63857D\u001b[0m\n",
            "Hopkinton on 01/19/20    |   \u001b[5m\u001b[7m\u001b[32mQualifier #22\u001b[0m  |  3379B, 1784W : 3\u001b[34m vs 75 : 63857A, 977Z\u001b[0m\n",
            "Hopkinton on 01/19/20    |   \u001b[5m\u001b[7m\u001b[32mQualifier #25\u001b[0m  |  \u001b[31m99928D, 977Z : 28 vs \u001b[0m7 : 99928B, 63857E\n",
            "Hopkinton on 01/19/20    |   \u001b[5m\u001b[7m\u001b[32mQualifier #35\u001b[0m  |  \u001b[31m2602H, 977Z : 43 vs \u001b[0m31 : 2602E, 3379A\n",
            "Hopkinton on 01/19/20    |   \u001b[5m\u001b[7m\u001b[32mQF #4-1\u001b[0m  |  \u001b[31m2602F, 977Z : 54 vs \u001b[0m9 : 99928A, 2602B\n",
            "Hopkinton on 01/19/20    |   \u001b[5m\u001b[7m\u001b[31mSF #2-1\u001b[0m  |  \u001b[31m2602A, 63857D : 54 vs \u001b[0m38 : 2602F, 977Z\n",
            "\n",
            "977Z is placed 14/252 and has 1258.2226352308212 points\n",
            "\n"
          ],
          "name": "stdout"
        },
        {
          "output_type": "display_data",
          "data": {
            "image/png": "[encoded data removed]",
            "text/plain": [
              "<Figure size 432x288 with 1 Axes>"
            ]
          },
          "metadata": {
            "tags": []
          }
        }
      ]
    },
    {
      "cell_type": "markdown",
      "metadata": {
        "id": "jm5ip0jlNrNV",
        "colab_type": "text"
      },
      "source": [
        "# Show SNE team rankings"
      ]
    },
    {
      "cell_type": "code",
      "metadata": {
        "id": "IKr5jv8oCGu-",
        "colab_type": "code",
        "colab": {
          "base_uri": "https://localhost:8080/",
          "height": 1000
        },
        "outputId": "6d82ffde-0426-4f92-fd52-2d6d73d929d5"
      },
      "source": [
        "s1.showRanks();"
      ],
      "execution_count": 193,
      "outputs": [
        {
          "output_type": "stream",
          "text": [
            "1: 4478D with a score of 4064.5442229777714\n",
            "2: 4478V with a score of 2916.692485493085\n",
            "3: 41364A with a score of 2882.9617691808335\n",
            "4: 375X with a score of 2757.5087130442885\n",
            "5: 63857A with a score of 2618.0464801120957\n",
            "6: 1898A with a score of 2385.9073312011856\n",
            "7: 1898R with a score of 2255.823640548912\n",
            "8: 2442B with a score of 2160.244273787166\n",
            "9: 5150J with a score of 1903.8637884399495\n",
            "10: 2602A with a score of 1865.6804347436407\n",
            "11: 4478Z with a score of 1843.3188466801819\n",
            "12: 63857D with a score of 1701.8881857844178\n",
            "13: 1695B with a score of 1699.3684035881963\n",
            "14: 977Z with a score of 1258.2226352308212\n",
            "15: 4478R with a score of 1245.5516423034044\n",
            "16: 9421X with a score of 1183.2300818660583\n",
            "17: 5150G with a score of 993.9225748051196\n",
            "18: 877J with a score of 975.6434226267244\n",
            "19: 5150E with a score of 947.4174936541738\n",
            "20: 81118P with a score of 928.5354858978802\n",
            "21: 169Y with a score of 844.4076232357968\n",
            "22: 4478F with a score of 792.0307549833083\n",
            "23: 8079M with a score of 760.4674056400994\n",
            "24: 195A with a score of 741.6625614777417\n",
            "25: 2442A with a score of 692.3707146836227\n",
            "26: 2442F with a score of 681.623769806859\n",
            "27: 10102X with a score of 672.0040928694261\n",
            "28: 369A with a score of 602.3752872900442\n",
            "29: 169E with a score of 489.8654406427102\n",
            "30: 3303D with a score of 484.0629842011101\n",
            "31: 2602F with a score of 463.2725596102542\n",
            "32: 902E with a score of 461.2703962703963\n",
            "33: 134J with a score of 437.4504743998521\n",
            "34: 3157A with a score of 433.5154250577653\n",
            "35: 1784X with a score of 404.3033353889851\n",
            "36: 5150H with a score of 379.6108065041484\n",
            "37: 4811A with a score of 332.98139768728015\n",
            "38: 1717B with a score of 325.4112548735897\n",
            "39: 1695D with a score of 324.34271763558377\n",
            "40: 1784Z with a score of 277.76111289727197\n",
            "41: 17814Y with a score of 277.0921009662276\n",
            "42: 8878E with a score of 273.2504322911987\n",
            "43: 50239A with a score of 258.4012085265956\n",
            "44: 40B with a score of 254.7402837043472\n",
            "45: 9228B with a score of 253.38264291639587\n",
            "46: 5150K with a score of 247.60839417734311\n",
            "47: 7121E with a score of 234.72000694158544\n",
            "48: 3303X with a score of 231.645782112971\n",
            "49: 1615A with a score of 231.56719981401335\n",
            "50: 8568X with a score of 229.62771490956163\n",
            "51: 5313C with a score of 227.29087034253448\n",
            "52: 169A with a score of 227.00687015150362\n",
            "53: 8079A with a score of 219.7770051968976\n",
            "54: 134Z with a score of 217.5864146809024\n",
            "55: 62X with a score of 213.82000607328374\n",
            "56: 13085A with a score of 212.54885637238576\n",
            "57: 1784W with a score of 211.36184919184305\n",
            "58: 9228C with a score of 205.08731036730344\n",
            "59: 785E with a score of 198.01405444226\n",
            "60: 195E with a score of 183.81706702213154\n",
            "61: 4898A with a score of 177.96003016591254\n",
            "62: 25600S with a score of 156.43144833004203\n",
            "63: 2142E with a score of 144.5937621299625\n",
            "64: 4344Y with a score of 137.88795734758565\n",
            "65: 4716C with a score of 132.7165786807444\n",
            "66: 2616Z with a score of 131.7441311592445\n",
            "67: 2602H with a score of 131.01761112308088\n",
            "68: 9909B with a score of 127.70051499558961\n",
            "69: 3379A with a score of 126.79529306693934\n",
            "70: 62A with a score of 123.41314791040494\n",
            "71: 48425A with a score of 111.36427906032449\n",
            "72: 404X with a score of 104.74213936823865\n",
            "73: 1898M with a score of 95.16213014086375\n",
            "74: 8568H with a score of 91.86507936507934\n",
            "75: 14000C with a score of 75.24472238288027\n",
            "76: 195C with a score of 74.37407177109691\n",
            "77: 404S with a score of 74.10542888314802\n",
            "78: 549C with a score of 65.87923428480704\n",
            "79: 1697A with a score of 40.65849484425792\n",
            "80: 6277B with a score of 39.544615795093335\n",
            "81: 785Z with a score of 36.721931095887655\n",
            "82: 4716A with a score of 31.941525299023496\n",
            "83: 5150F with a score of 27.86990215161927\n",
            "84: 4344X with a score of 11.053762727207655\n",
            "85: 134M with a score of 10.593114981160525\n",
            "86: 8568F with a score of -1.4997804128239096\n",
            "87: 11442X with a score of -13.748328583775788\n",
            "88: 902C with a score of -14.425924952240692\n",
            "89: 30906A with a score of -17.759192284508742\n",
            "90: 877H with a score of -18.033758576270074\n",
            "91: 4478C with a score of -18.094714362661215\n",
            "92: 5150D with a score of -20.73209458659271\n",
            "93: 1082B with a score of -22.968650758003832\n",
            "94: 697X with a score of -24.5114838864839\n",
            "95: 6181B with a score of -25.78706441660134\n",
            "96: 17814X with a score of -32.371749305222565\n",
            "97: 2142D with a score of -34.34890894922013\n",
            "98: 2079A with a score of -35.39987789987792\n",
            "99: 2606C with a score of -36.12024259971493\n",
            "100: 228A with a score of -44.158305462653274\n",
            "101: 5319B with a score of -46.143899204244036\n",
            "102: 195D with a score of -51.27461508097113\n",
            "103: 3379B with a score of -56.147489682958806\n",
            "104: 17814Z with a score of -56.18810902891306\n",
            "105: 7121D with a score of -58.747280829101584\n",
            "106: 285Z with a score of -61.76918923456489\n",
            "107: 16738B with a score of -63.485596720352824\n",
            "108: 7263A with a score of -63.995782532644135\n",
            "109: 8878B with a score of -64.52585808613401\n",
            "110: 4180B with a score of -67.139084214902\n",
            "111: 15797A with a score of -75.5314514291594\n",
            "112: 1930E with a score of -80.32473342828035\n",
            "113: 404Y with a score of -88.41986829221443\n",
            "114: 58566A with a score of -91.32372283831094\n",
            "115: 75735A with a score of -97.91277404939216\n",
            "116: 9421R with a score of -98.55590851119568\n",
            "117: 134C with a score of -102.42541766962093\n",
            "118: 75735C with a score of -104.12801673406128\n",
            "119: 9909F with a score of -108.05569334296717\n",
            "120: 9228A with a score of -108.12165129416627\n",
            "121: 25461Z with a score of -116.47976342591411\n",
            "122: 8568A with a score of -121.5218254287237\n",
            "123: 8025B with a score of -131.17042328007884\n",
            "124: 8025A with a score of -133.622535136357\n",
            "125: 3157N with a score of -134.7068278740934\n",
            "126: 1127Z with a score of -139.05807007637674\n",
            "127: 8568C with a score of -144.21377641965876\n",
            "128: 1188A with a score of -146.65412488483489\n",
            "129: 4180A with a score of -148.0857125299321\n",
            "130: 13085B with a score of -150.07148041757398\n",
            "131: 1353P with a score of -153.56659256343238\n",
            "132: 8884A with a score of -159.3492879146895\n",
            "133: 62K with a score of -166.71753986615306\n",
            "134: 8568G with a score of -168.42948717948718\n",
            "135: 902D with a score of -169.04347826086962\n",
            "136: 169Z with a score of -169.26708536631648\n",
            "137: 242Y with a score of -171.91571147187216\n",
            "138: 169X with a score of -172.59422340290703\n",
            "139: 549V with a score of -173.72017772626293\n",
            "140: 8828A with a score of -174.56959706959708\n",
            "141: 1695E with a score of -177.18422388661213\n",
            "142: 1717K with a score of -178.1763222552696\n",
            "143: 9421V with a score of -178.99616123250735\n",
            "144: 25600X with a score of -179.03622201742095\n",
            "145: 1930C with a score of -180.86580086580085\n",
            "146: 5156A with a score of -181.14613671606736\n",
            "147: 5313A with a score of -184.33407795377235\n",
            "148: 697D with a score of -184.8169480304535\n",
            "149: 134D with a score of -191.45426991633425\n",
            "150: 1930B with a score of -191.49318274318276\n",
            "151: 30906B with a score of -193.17676639621365\n",
            "152: 2602K with a score of -193.41378353969455\n",
            "153: 6181C with a score of -193.98881819934448\n",
            "154: 8568D with a score of -198.1847377315706\n",
            "155: 39545B with a score of -198.60638402518202\n",
            "156: 46024E with a score of -199.01027077497668\n",
            "157: 62G with a score of -199.45939152998525\n",
            "158: 85127A with a score of -203.57160983728727\n",
            "159: 817D with a score of -214.20619821355115\n",
            "160: 228B with a score of -221.58625519173185\n",
            "161: 817F with a score of -222.99688181235447\n",
            "162: 1695A with a score of -223.81399024042707\n",
            "163: 8884B with a score of -228.08537369063686\n",
            "164: 4478B with a score of -231.14275319014683\n",
            "165: 8568B with a score of -234.42009379509378\n",
            "166: 25600H with a score of -240.39960385459213\n",
            "167: 8370A with a score of -244.72527616674856\n",
            "168: 785B with a score of -246.5446078131758\n",
            "169: 4898C with a score of -263.1803430906731\n",
            "170: 5319A with a score of -268.3296703296703\n",
            "171: 63857E with a score of -272.4661163199039\n",
            "172: 4716D with a score of -278.72742393527597\n",
            "173: 8025C with a score of -284.9881965325315\n",
            "174: 63857B with a score of -286.2042230047969\n",
            "175: 2606A with a score of -288.2671675794363\n",
            "176: 2713A with a score of -294.46859252999457\n",
            "177: 64345A with a score of -297.4418962530418\n",
            "178: 55550X with a score of -302.71207037123395\n",
            "179: 62B with a score of -305.341729412516\n",
            "180: 8568E with a score of -311.6322369545577\n",
            "181: 58566B with a score of -315.9417259726857\n",
            "182: 2713C with a score of -318.2539298577034\n",
            "183: 2621A with a score of -320.280701754386\n",
            "184: 17814A with a score of -330.7668007040057\n",
            "185: 8878G with a score of -330.8561200764118\n",
            "186: 2606B with a score of -338.95016350008973\n",
            "187: 162A with a score of -341.717511620798\n",
            "188: 4898B with a score of -342.8654970760234\n",
            "189: 2602B with a score of -350.97784628076397\n",
            "190: 10900Z with a score of -355.44635189372036\n",
            "191: 18891A with a score of -357.9035890918654\n",
            "192: 242B with a score of -366.77620400481555\n",
            "193: 2079B with a score of -368.68429429187944\n",
            "194: 2602D with a score of -371.5497308112575\n",
            "195: 4344A with a score of -371.56934568699273\n",
            "196: 902B with a score of -376.68750789440446\n",
            "197: 2713B with a score of -393.2395198432934\n",
            "198: 1353X with a score of -396.24649444741556\n",
            "199: 75735B with a score of -400.77067990132423\n",
            "200: 4716B with a score of -409.17431774574635\n",
            "201: 9909C with a score of -414.76640714822025\n",
            "202: 2602M with a score of -417.2395330829446\n",
            "203: 10102Z with a score of -431.5384498537396\n",
            "204: 5313B with a score of -455.9016140669367\n",
            "205: 6181A with a score of -457.6638655462185\n",
            "206: 17814E with a score of -463.7717962219925\n",
            "207: 58566C with a score of -464.6532504291125\n",
            "208: 2602E with a score of -466.95262357009216\n",
            "209: 1695C with a score of -477.1080034623125\n",
            "210: 4344Z with a score of -478.8135451800033\n",
            "211: 1898S with a score of -484.35778059948206\n",
            "212: 17814C with a score of -507.7822804761496\n",
            "213: 2602G with a score of -520.5612731323392\n",
            "214: 55550W with a score of -522.6446547377459\n",
            "215: 17814D with a score of -524.3070410229192\n",
            "216: 18891B with a score of -524.5722795722795\n",
            "217: 17814V with a score of -538.9956808494724\n",
            "218: 9909A with a score of -544.6568871130627\n",
            "219: 99928D with a score of -551.9955866251217\n",
            "220: 195B with a score of -571.5535643616977\n",
            "221: 902X with a score of -581.1218888638242\n",
            "222: 1618A with a score of -592.5332270585834\n",
            "223: 17814B with a score of -594.7196909337812\n",
            "224: 17814F with a score of -595.5059509883239\n",
            "225: 2381Z with a score of -608.533507381509\n",
            "226: 99928E with a score of -608.7605406562332\n",
            "227: 12345A with a score of -608.8875370334767\n",
            "228: 2442E with a score of -611.4269776991762\n",
            "229: 11442Z with a score of -620.7138158935487\n",
            "230: 1784Y with a score of -626.9119311750496\n",
            "231: 49585B with a score of -628.687308189179\n",
            "232: 8878C with a score of -640.1085105970117\n",
            "233: 817B with a score of -664.5369927055524\n",
            "234: 785A with a score of -679.4610385792934\n",
            "235: 10102A with a score of -691.7899729679249\n",
            "236: 39545A with a score of -705.7836512146857\n",
            "237: 99928B with a score of -708.2872786517788\n",
            "238: 17814W with a score of -732.5844037071121\n",
            "239: 8079C with a score of -752.3761467677251\n",
            "240: 99928A with a score of -752.6730996095716\n",
            "241: 8878F with a score of -762.1281577899225\n",
            "242: 877Z with a score of -789.1130853994821\n",
            "243: 2602C with a score of -802.9904308941577\n",
            "244: 50239B with a score of -869.6915666033311\n",
            "245: 1188B with a score of -883.1257381585825\n",
            "246: 8079R with a score of -972.443911937225\n",
            "247: 99928C with a score of -1006.1061453538176\n",
            "248: 8878D with a score of -1049.3095570606956\n",
            "249: 8878A with a score of -1050.6322804735264\n",
            "250: 9909D with a score of -1055.8055144187463\n",
            "251: 4478A with a score of -1333.2005437812984\n",
            "252: 1697B with a score of -1402.9144048619753\n"
          ],
          "name": "stdout"
        }
      ]
    },
    {
      "cell_type": "markdown",
      "metadata": {
        "id": "GeltNc2IPbpV",
        "colab_type": "text"
      },
      "source": [
        "# Show matches for a comp"
      ]
    },
    {
      "cell_type": "code",
      "metadata": {
        "id": "AcgqMvSoPbYr",
        "colab_type": "code",
        "colab": {
          "base_uri": "https://localhost:8080/",
          "height": 57
        },
        "outputId": "070519b8-1f7e-4987-d288-9945bfddb26c"
      },
      "source": [
        "comp = compFile.load()\n",
        "print(comp[\"12.0\"])"
      ],
      "execution_count": 194,
      "outputs": [
        {
          "output_type": "stream",
          "text": [
            "{'Matches': [['Qualifier #1', 12.0, [5, 12], ['404Y', '1353X'], ['977Z', '9909B'], 'Blue'], ['Qualifier #2', 12.0, [30, 9], ['63857A', '242B'], ['3303D', '4180B'], 'Red'], ['Qualifier #3', 12.0, [35, 46], ['25461Z', '62G'], ['2442A', '375X'], 'Blue'], ['Qualifier #4', 12.0, [52, 9], ['4478D', '785E'], ['9909A', '11442Z'], 'Red'], ['Qualifier #5', 12.0, [19, 35], ['134C', '2142D'], ['9909C', '169Z'], 'Blue'], ['Qualifier #6', 12.0, [11, 24], ['10102A', '7121D'], ['1898A', '169E'], 'Blue'], ['Qualifier #7', 12.0, [28, 17], ['369A', '9909F'], ['7121E', '62B'], 'Red'], ['Qualifier #8', 12.0, [29, 14], ['62A', '9421X'], ['134J', '25600H'], 'Red'], ['Qualifier #9', 12.0, [12, 17], ['62K', '4478F'], ['785B', '1353P'], 'Blue'], ['Qualifier #10', 12.0, [64, 31], ['1082B', '2442F'], ['11442X', '134D'], 'Red'], ['Qualifier #11', 12.0, [27, 19], ['169Y', '63857D'], ['10102Z', '134Z'], 'Red'], ['Qualifier #12', 12.0, [34, 1], ['2442E', '2602A'], ['2602H', '1898M'], 'Red'], ['Qualifier #13', 12.0, [58, 1], ['404S', '6277B'], ['785A', '285Z'], 'Red'], ['Qualifier #14', 12.0, [86, 23], ['2442B', '1898R'], ['242Y', '5156A'], 'Red'], ['Qualifier #15', 12.0, [53, 54], ['1717B', '4478V'], ['4478R', '62X'], 'Blue'], ['Qualifier #16', 12.0, [32, 14], ['2616Z', '3303X'], ['4180A', '5150J'], 'Red'], ['Qualifier #17', 12.0, [15, 16], ['134M', '169A'], ['4478Z', '25600X'], 'Blue'], ['Qualifier #18', 12.0, [51, 36], ['169X', '40B'], ['25600S', '2602G'], 'Red'], ['Qualifier #19', 12.0, [14, 19], ['2381Z', '2142E'], ['4344X', '10102X'], 'Blue'], ['Qualifier #20', 12.0, [4, 23], ['785Z', '9909D'], ['404X', '41364A'], 'Blue'], ['Qualifier #21', 12.0, [23, 60], ['4180B', '785B'], ['369A', '1353X'], 'Blue'], ['Qualifier #22', 12.0, [83, 48], ['3303D', '4478D'], ['169Y', '10102A'], 'Red'], ['Qualifier #23', 12.0, [19, 30], ['375X', '10102Z'], ['2602A', '285Z'], 'Blue'], ['Qualifier #24', 12.0, [31, 18], ['6277B', '63857D'], ['7121D', '62A'], 'Red'], ['Qualifier #25', 12.0, [45, 38], ['62B', '5156A'], ['2442F', '62X'], 'Red'], ['Qualifier #26', 12.0, [20, 9], ['134J', '7121E'], ['404S', '134C'], 'Red'], ['Qualifier #27', 12.0, [34, 60], ['2602H', '5150J'], ['977Z', '169A'], 'Blue'], ['Qualifier #28', 12.0, [1, 29], ['242B', '169X'], ['9421X', '1717B'], 'Blue'], ['Qualifier #29', 12.0, [29, 21], ['169Z', '1898A'], ['9909F', '2142E'], 'Red'], ['Qualifier #30', 12.0, [39, 7], ['41364A', '9909A'], ['2381Z', '1082B'], 'Red'], ['Qualifier #31', 12.0, [8, 23], ['11442X', '4344X'], ['3303X', '2442E'], 'Blue'], ['Qualifier #32', 12.0, [74, 30], ['63857A', '2442A'], ['62K', '2142D'], 'Red'], ['Qualifier #33', 12.0, [7, 65], ['785Z', '11442Z'], ['404Y', '2616Z'], 'Blue'], ['Qualifier #34', 12.0, [18, 67], ['134D', '1898M'], ['25461Z', '1353P'], 'Blue'], ['Qualifier #35', 12.0, [34, 2], ['10102X', '25600S'], ['9909D', '785E'], 'Red'], ['Qualifier #36', 12.0, [0, 26], ['134Z', '169E'], ['4478R', '40B'], 'Blue'], ['Qualifier #37', 12.0, [1, 21], ['404X', '25600H'], ['4478F', '242Y'], 'Blue'], ['Qualifier #38', 12.0, [20, 50], ['9909C', '25600X'], ['1898R', '9909B'], 'Blue'], ['Qualifier #39', 12.0, [11, 35], ['785A', '4478Z'], ['62G', '2442B'], 'Blue'], ['Qualifier #40', 12.0, [28, 40], ['2602G', '4180A'], ['134M', '4478V'], 'Blue'], ['Qualifier #41', 12.0, [7, 18], ['4344X', '785B'], ['6277B', '169X'], 'Blue'], ['Qualifier #42', 12.0, [49, 19], ['3303D', '41364A'], ['62A', '169Z'], 'Red'], ['Qualifier #43', 12.0, [6, 58], ['11442Z', '10102Z'], ['369A', '9421X'], 'Blue'], ['Qualifier #44', 12.0, [29, 83], ['5156A', '62K'], ['25461Z', '4180B'], 'Blue'], ['Qualifier #45', 12.0, [23, 45], ['1353X', '7121E'], ['2602H', '4478D'], 'Blue'], ['Qualifier #46', 12.0, [47, 32], ['977Z', '2442A'], ['2616Z', '2381Z'], 'Red'], ['Qualifier #47', 12.0, [24, 42], ['285Z', '9909D'], ['7121D', '25600H'], 'Blue'], ['Qualifier #48', 12.0, [78, 12], ['1898A', '62X'], ['242B', '134C'], 'Red'], ['Qualifier #49', 12.0, [45, 17], ['4478Z', '40B'], ['1898R', '5150J'], 'Red'], ['Qualifier #50', 12.0, [27, 22], ['9909A', '4478F'], ['785Z', '1898M'], 'Red'], ['Qualifier #51', 12.0, [12, 14], ['10102A', '25600X'], ['404X', '10102X'], 'Blue'], ['Qualifier #52', 12.0, [28, 47], ['4478R', '9909B'], ['62G', '169A'], 'Blue'], ['Qualifier #53', 12.0, [33, 42], ['62B', '4478V'], ['2142D', '169E'], 'Blue'], ['Qualifier #54', 12.0, [4, 31], ['9909F', '404S'], ['134Z', '11442X'], 'Blue'], ['Qualifier #55', 12.0, [20, 8], ['134J', '375X'], ['785E', '2602G'], 'Red'], ['Qualifier #56', 12.0, [14, 68], ['242Y', '1353P'], ['3303X', '169Y'], 'Blue'], ['Qualifier #57', 12.0, [28, 43], ['2142E', '2442E'], ['134D', '2442B'], 'Blue'], ['Qualifier #58', 12.0, [35, 53], ['134M', '2602A'], ['63857A', '2442F'], 'Blue'], ['Qualifier #59', 12.0, [11, 17], ['404Y', '25600S'], ['63857D', '4180A'], 'Blue'], ['Qualifier #60', 12.0, [43, 28], ['785A', '1082B'], ['1717B', '9909C'], 'Red'], ['Qualifier #61', 12.0, [26, 15], ['10102X', '9421X'], ['6277B', '41364A'], 'Red'], ['Qualifier #62', 12.0, [25, 19], ['62K', '10102Z'], ['1898A', '9909D'], 'Red'], ['Qualifier #63', 12.0, [14, 17], ['62G', '1898M'], ['11442Z', '5156A'], 'Blue'], ['Qualifier #64', 12.0, [39, 13], ['977Z', '2142D'], ['4478F', '9909F'], 'Red'], ['Qualifier #65', 12.0, [27, 60], ['9909B', '2602H'], ['4478Z', '3303D'], 'Blue'], ['Qualifier #66', 12.0, [2, 76], ['11442X', '7121D'], ['134J', '369A'], 'Blue'], ['Qualifier #67', 12.0, [34, 37], ['2602G', '4478R'], ['2142E', '3303X'], 'Blue'], ['Qualifier #68', 12.0, [14, 25], ['1353P', '25600H'], ['2442E', '169E'], 'Blue'], ['Qualifier #69', 12.0, [60, 50], ['169Y', '2602A'], ['25600X', '40B'], 'Red'], ['Qualifier #70', 12.0, [16, 15], ['404X', '404S'], ['1082B', '169X'], 'Red'], ['Qualifier #71', 12.0, [27, 8], ['4180A', '62X'], ['4344X', '10102A'], 'Red'], ['Qualifier #72', 12.0, [53, 24], ['1717B', '63857A'], ['7121E', '785B'], 'Red'], ['Qualifier #73', 12.0, [65, 25], ['2616Z', '4478D'], ['62B', '242B'], 'Red'], ['Qualifier #74', 12.0, [17, 39], ['169Z', '2381Z'], ['5150J', '134Z'], 'Blue'], ['Qualifier #75', 12.0, [24, 8], ['1353X', '375X'], ['63857D', '785Z'], 'Red'], ['Qualifier #76', 12.0, [43, 39], ['285Z', '169A'], ['9909A', '62A'], 'Red'], ['Qualifier #77', 12.0, [23, 30], ['1898R', '25461Z'], ['4478V', '785A'], 'Blue'], ['Qualifier #78', 12.0, [14, 39], ['9909C', '2442F'], ['404Y', '2442B'], 'Blue'], ['Qualifier #79', 12.0, [27, 11], ['4180B', '785E'], ['134M', '242Y'], 'Red'], ['Qualifier #80', 12.0, [37, 28], ['134C', '134D'], ['25600S', '2442A'], 'Red'], ['Qualifier #81', 12.0, [20, 61], ['2602G', '404X'], ['62X', '9909B'], 'Blue'], ['Qualifier #82', 12.0, [41, 37], ['369A', '4478F'], ['169X', '10102X'], 'Red'], ['Qualifier #83', 12.0, [32, 37], ['2616Z', '2602H'], ['2142D', '169Y'], 'Blue'], ['Qualifier #84', 12.0, [5, 21], ['40B', '10102A'], ['11442X', '41364A'], 'Blue'], ['Qualifier #85', 12.0, [13, 38], ['1082B', '5156A'], ['10102Z', '3303D'], 'Blue'], ['Qualifier #86', 12.0, [45, 24], ['3303X', '134J'], ['62B', '9909A'], 'Red'], ['Qualifier #87', 12.0, [76, 1], ['4478V', '1898A'], ['62G', '785B'], 'Red'], ['Qualifier #88', 12.0, [22, 3], ['1898R', '242B'], ['2381Z', '1353X'], 'Red'], ['Qualifier #89', 12.0, [9, 6], ['4478Z', '4180A'], ['25600H', '785Z'], 'Red'], ['Qualifier #90', 12.0, [39, 23], ['169E', '7121E'], ['4180B', '6277B'], 'Red'], ['Qualifier #91', 12.0, [18, 33], ['134D', '9909C'], ['2602A', '4344X'], 'Blue'], ['Qualifier #92', 12.0, [45, 24], ['25600X', '2142E'], ['63857D', '785A'], 'Red'], ['Qualifier #93', 12.0, [20, 51], ['2442A', '1353P'], ['2442F', '7121D'], 'Blue'], ['Qualifier #94', 12.0, [19, 22], ['977Z', '25600S'], ['63857A', '9421X'], 'Blue'], ['Qualifier #95', 12.0, [27, 18], ['1717B', '134C'], ['11442Z', '9909D'], 'Red'], ['Qualifier #96', 12.0, [74, 62], ['5150J', '285Z'], ['9909F', '4478D'], 'Red'], ['Qualifier #97', 12.0, [41, 36], ['242Y', '1898M'], ['404S', '4478R'], 'Red'], ['Qualifier #98', 12.0, [11, 14], ['169A', '134Z'], ['62K', '2442E'], 'Blue'], ['Qualifier #99', 12.0, [19, 23], ['169Z', '404Y'], ['134M', '375X'], 'Blue'], ['Qualifier #100', 12.0, [51, 47], ['62A', '2442B'], ['785E', '25461Z'], 'Red'], ['Qualifier #101', 12.0, [22, 8], ['169Y', '785Z'], ['2602G', '4344X'], 'Red'], ['Qualifier #102', 12.0, [26, 22], ['62X', '62G'], ['1353X', '25600X'], 'Red'], ['Qualifier #103', 12.0, [29, 18], ['41364A', '7121D'], ['9909C', '2616Z'], 'Red'], ['Qualifier #104', 12.0, [16, 12], ['7121E', '5156A'], ['4478V', '242B'], 'Red'], ['Qualifier #105', 12.0, [3, 45], ['9909A', '2142D'], ['25600S', '2602A'], 'Blue'], ['Qualifier #106', 12.0, [12, 13], ['169X', '11442Z'], ['9909F', '2442F'], 'Blue'], ['Qualifier #107', 12.0, [33, 15], ['242Y', '3303D'], ['977Z', '785A'], 'Red'], ['Qualifier #108', 12.0, [9, 38], ['2381Z', '2442E'], ['369A', '4180A'], 'Blue'], ['Qualifier #109', 12.0, [33, 30], ['4478R', '5150J'], ['1898A', '404X'], 'Red'], ['Qualifier #110', 12.0, [43, 69], ['62K', '6277B'], ['40B', '2142E'], 'Blue'], ['Qualifier #111', 12.0, [59, 19], ['134M', '169E'], ['4478F', '134C'], 'Red'], ['Qualifier #112', 12.0, [73, 31], ['62A', '62B'], ['10102Z', '134D'], 'Red'], ['Qualifier #113', 12.0, [32, 13], ['10102X', '25461Z'], ['134J', '9909B'], 'Red'], ['Qualifier #114', 12.0, [36, 58], ['4180B', '63857D'], ['1898M', '10102A'], 'Blue'], ['Qualifier #115', 12.0, [43, 34], ['25600H', '169A'], ['63857A', '4478D'], 'Red'], ['Qualifier #116', 12.0, [53, 28], ['11442X', '2442B'], ['1353P', '9909D'], 'Red'], ['Qualifier #117', 12.0, [23, 22], ['785E', '134Z'], ['1717B', '404Y'], 'Red'], ['Qualifier #118', 12.0, [9, 24], ['3303X', '404S'], ['375X', '4478Z'], 'Blue'], ['Qualifier #119', 12.0, [1, 67], ['169Z', '2602H'], ['1898R', '2442A'], 'Blue'], ['Qualifier #120', 12.0, [32, 24], ['9421X', '785B'], ['285Z', '1082B'], 'Red'], ['Qualifier #121', 12.0, [12, 13], ['785A', '41364A'], ['25600S', '5150J'], 'Blue'], ['Qualifier #122', 12.0, [40, 14], ['62A', '4478V'], ['62K', '2381Z'], 'Red'], ['Qualifier #123', 12.0, [10, 38], ['785Z', '9909F'], ['134J', '134D'], 'Blue'], ['Qualifier #124', 12.0, [62, 17], ['169Y', '4478R'], ['10102X', '5156A'], 'Red'], ['Qualifier #125', 12.0, [14, 66], ['1898A', '11442Z'], ['7121E', '2602A'], 'Blue'], ['Qualifier #126', 12.0, [12, 12], ['2442F', '2142E'], ['242B', '25600H'], None], ['Qualifier #127', 12.0, [7, 55], ['9909B', '2142D'], ['1717B', '134M'], 'Blue'], ['Qualifier #128', 12.0, [27, 11], ['134C', '9909A'], ['11442X', '1353X'], 'Red'], ['Qualifier #129', 12.0, [30, 34], ['2442E', '375X'], ['2616Z', '169X'], 'Blue'], ['Qualifier #130', 12.0, [17, 8], ['9909C', '285Z'], ['242Y', '4478Z'], 'Red'], ['Qualifier #131', 12.0, [70, 33], ['6277B', '25461Z'], ['169Z', '404X'], 'Red'], ['Qualifier #132', 12.0, [34, 24], ['9909D', '63857A'], ['4478F', '10102A'], 'Red'], ['Qualifier #133', 12.0, [32, 10], ['785E', '369A'], ['3303X', '977Z'], 'Red'], ['Qualifier #134', 12.0, [25, 49], ['1353P', '62G'], ['1082B', '2602H'], 'Blue'], ['Qualifier #135', 12.0, [15, 16], ['785B', '169E'], ['404Y', '25600X'], 'Blue'], ['Qualifier #136', 12.0, [62, 2], ['3303D', '4344X'], ['63857D', '2442B'], 'Red'], ['Qualifier #137', 12.0, [20, 43], ['2602G', '10102Z'], ['1898M', '1898R'], 'Blue'], ['Qualifier #138', 12.0, [33, 50], ['7121D', '40B'], ['4478D', '4180B'], 'Blue'], ['Qualifier #139', 12.0, [9, 22], ['2442A', '9421X'], ['62X', '134Z'], 'Blue'], ['Qualifier #140', 12.0, [8, 22], ['4180A', '62B'], ['404S', '169A'], 'Blue'], ['Qualifier #141', 12.0, [1, 22], ['242B', '134D'], ['62K', '5150J'], 'Blue'], ['Qualifier #142', 12.0, [20, 27], ['2381Z', '25600S'], ['9909C', '134J'], 'Blue'], ['Qualifier #143', 12.0, [13, 16], ['4478F', '5156A'], ['41364A', '785E'], 'Blue'], ['Qualifier #144', 12.0, [7, 34], ['10102A', '285Z'], ['2142D', '4478R'], 'Blue'], ['Qualifier #145', 12.0, [17, 36], ['1353X', '3303X'], ['63857A', '9909F'], 'Blue'], ['Qualifier #146', 12.0, [30, 23], ['2602A', '1082B'], ['6277B', '25600H'], 'Red'], ['Qualifier #147', 12.0, [24, 64], ['10102X', '1717B'], ['2616Z', '2602G'], 'Blue'], ['Qualifier #148', 12.0, [28, 40], ['4478D', '785A'], ['785Z', '1898A'], 'Blue'], ['Qualifier #149', 12.0, [24, 64], ['242Y', '9909B'], ['169Z', '7121D'], 'Blue'], ['Qualifier #150', 12.0, [21, 21], ['369A', '4344X'], ['169E', '404S'], None], ['Qualifier #151', 12.0, [48, 49], ['2442B', '1898M'], ['169A', '785B'], 'Blue'], ['Qualifier #152', 12.0, [51, 55], ['4180B', '9421X'], ['9909A', '4478V'], 'Blue'], ['Qualifier #153', 12.0, [25, 13], ['169X', '10102Z'], ['2142E', '1353P'], 'Red'], ['Qualifier #154', 12.0, [19, 12], ['2442F', '25600X'], ['375X', '977Z'], 'Red'], ['Qualifier #155', 12.0, [24, 21], ['7121E', '2442E'], ['62G', '169Y'], 'Red'], ['Qualifier #156', 12.0, [11, 5], ['404X', '1898R'], ['4180A', '11442Z'], 'Red'], ['Qualifier #157', 12.0, [25, 6], ['404Y', '4478Z'], ['62X', '9909D'], 'Red'], ['Qualifier #158', 12.0, [8, 26], ['134M', '11442X'], ['62A', '2442A'], 'Blue'], ['Qualifier #159', 12.0, [36, 29], ['63857D', '62B'], ['2602H', '40B'], 'Red'], ['Qualifier #160', 12.0, [53, 41], ['134Z', '134C'], ['3303D', '25461Z'], 'Red'], ['Qualifier #161', 12.0, [34, 16], ['134D', '2142D'], ['1353X', '242Y'], 'Red'], ['Qualifier #162', 12.0, [19, 13], ['62K', '2616Z'], ['9421X', '169E'], 'Red'], ['Qualifier #163', 12.0, [19, 11], ['4478F', '2381Z'], ['4478D', '10102Z'], 'Red'], ['Qualifier #164', 12.0, [27, 33], ['5150J', '9909A'], ['404S', '2442B'], 'Blue'], ['Qualifier #165', 12.0, [9, 26], ['25600X', '169X'], ['4478V', '63857A'], 'Blue'], ['Qualifier #166', 12.0, [23, 10], ['785E', '1898A'], ['6277B', '9909B'], 'Red'], ['Qualifier #167', 12.0, [22, 44], ['1717B', '4344X'], ['285Z', '1353P'], 'Blue'], ['Qualifier #168', 12.0, [16, 60], ['134M', '785A'], ['369A', '10102A'], 'Blue'], ['Qualifier #169', 12.0, [12, 9], ['9909D', '1898M'], ['1082B', '169Z'], 'Red'], ['Qualifier #170', 12.0, [28, 18], ['9909F', '7121D'], ['25461Z', '2442E'], 'Red'], ['Qualifier #171', 12.0, [10, 14], ['2442A', '4478Z'], ['2142E', '169Y'], 'Blue'], ['Qualifier #172', 12.0, [16, 34], ['25600H', '404Y'], ['11442X', '1898R'], 'Blue'], ['Qualifier #173', 12.0, [17, 17], ['134J', '4180B'], ['62G', '41364A'], None], ['Qualifier #174', 12.0, [4, 25], ['4180A', '2442F'], ['40B', '3303D'], 'Blue'], ['Qualifier #175', 12.0, [28, 13], ['375X', '134Z'], ['7121E', '25600S'], 'Red'], ['Qualifier #176', 12.0, [20, 10], ['977Z', '2602G'], ['62B', '11442Z'], 'Red'], ['Qualifier #177', 12.0, [20, 22], ['4478R', '242B'], ['63857D', '9909C'], 'Blue'], ['Qualifier #178', 12.0, [10, 17], ['62X', '10102X'], ['3303X', '2602A'], 'Blue'], ['Qualifier #179', 12.0, [16, 59], ['785Z', '2602H'], ['785B', '62A'], 'Blue'], ['Qualifier #180', 12.0, [40, 30], ['169A', '404X'], ['5156A', '134C'], 'Red'], ['Qualifier #181', 12.0, [35, 32], ['242Y', '6277B'], ['2616Z', '25600X'], 'Red'], ['Qualifier #182', 12.0, [50, 13], ['4478V', '404S'], ['404Y', '134D'], 'Red'], ['Qualifier #183', 12.0, [57, 3], ['1898R', '169Y'], ['169X', '62K'], 'Red'], ['Qualifier #184', 12.0, [25, 30], ['25461Z', '1717B'], ['4478Z', '2442F'], 'Blue'], ['Qualifier #185', 12.0, [40, 24], ['25600S', '369A'], ['285Z', '62G'], 'Red'], ['Qualifier #186', 12.0, [17, 2], ['4344X', '1898M'], ['785A', '62B'], 'Red'], ['Qualifier #187', 12.0, [25, 34], ['41364A', '1353X'], ['1898A', '25600H'], 'Blue'], ['Qualifier #188', 12.0, [35, 33], ['62X', '1082B'], ['2142D', '375X'], 'Red'], ['Qualifier #189', 12.0, [44, 18], ['134J', '134M'], ['242B', '10102Z'], 'Red'], ['Qualifier #190', 12.0, [35, 15], ['11442X', '169Z'], ['169A', '4478F'], 'Red'], ['Qualifier #191', 12.0, [9, 22], ['2602G', '785B'], ['5156A', '2442A'], 'Blue'], ['Qualifier #192', 12.0, [61, 26], ['63857A', '169E'], ['10102X', '4180A'], 'Red'], ['Qualifier #193', 12.0, [42, 0], ['3303X', '3303D'], ['2381Z', '7121D'], 'Red'], ['Qualifier #194', 12.0, [6, 23], ['2442B', '977Z'], ['7121E', '404X'], 'Blue'], ['Qualifier #195', 12.0, [8, 12], ['2602A', '63857D'], ['9421X', '4478D'], 'Blue'], ['Qualifier #196', 12.0, [8, 31], ['10102A', '11442Z'], ['2602H', '134Z'], 'Blue'], ['Qualifier #197', 12.0, [17, 12], ['134C', '1353P'], ['785E', '4478R'], 'Red'], ['Qualifier #198', 12.0, [30, 12], ['5150J', '9909B'], ['2442E', '785Z'], 'Red'], ['Qualifier #199', 12.0, [37, 42], ['62A', '9909D'], ['2142E', '4180B'], 'Blue'], ['Qualifier #200', 12.0, [57, 36], ['40B', '9909F'], ['9909C', '9909A'], 'Red'], ['R16 #1-1', 12.0, [23, 57], ['369A', '25461Z'], ['2142E', '7121E'], 'Blue'], ['R16 #2-1', 12.0, [38, 29], ['2442B', '169Z'], ['977Z', '41364A'], 'Red'], ['R16 #3-1', 12.0, [42, 35], ['3303D', '1898R'], ['62X', '62A'], 'Red'], ['R16 #4-1', 12.0, [31, 22], ['134J', '40B'], ['3303X', '2616Z'], 'Red'], ['R16 #5-1', 12.0, [28, 25], ['2602A', '2442A'], ['4478Z', '4478R'], 'Red'], ['R16 #6-1', 12.0, [26, 26], ['9421X', '375X'], ['134Z', '134C'], None], ['R16 #7-1', 12.0, [31, 13], ['169Y', '169E'], ['1898A', '5150J'], 'Red'], ['R16 #8-1', 12.0, [68, 64], ['4478V', '169A'], ['63857A', '4478D'], 'Red'], ['R16 #6-2', 12.0, [24, 22], ['9421X', '375X'], ['134Z', '134C'], 'Red'], ['QF #1-1', 12.0, [55, 22], ['2142E', '7121E'], ['2442B', '169Z'], 'Red'], ['QF #2-1', 12.0, [26, 55], ['3303D', '1898R'], ['134J', '40B'], 'Blue'], ['QF #3-1', 12.0, [27, 37], ['2602A', '2442A'], ['9421X', '375X'], 'Blue'], ['QF #4-1', 12.0, [47, 28], ['169Y', '169E'], ['4478V', '169A'], 'Red'], ['SF #1-1', 12.0, [36, 23], ['2142E', '7121E'], ['134J', '40B'], 'Red'], ['SF #2-1', 12.0, [16, 27], ['9421X', '375X'], ['169Y', '169E'], 'Blue'], ['Final #1-1', 12.0, [45, 52], ['2142E', '7121E'], ['169Y', '169E'], 'Blue'], ['Final #1-2', 12.0, [46, 54], ['2142E', '7121E'], ['169Y', '169E'], 'Blue']], 'Skills': []}\n"
          ],
          "name": "stdout"
        }
      ]
    },
    {
      "cell_type": "markdown",
      "metadata": {
        "id": "l8SZIzhE2JFx",
        "colab_type": "text"
      },
      "source": [
        "# Structure\n",
        "* Json Files\n",
        "  * Competitions:\n",
        "    * Holds every played match sorted by competition then time\n",
        "  * Scores\n",
        "    * Holds every team's score, and their score over time stored in a list\n",
        "  * Teams\n",
        "    * Stores every team, and every match they have played.\n",
        "\n",
        "# Backlog\n",
        "\n",
        "### Complete\n",
        "* Create Json manager class\n",
        "* Create competition class\n",
        "* Create competition ID system\n",
        "* Read and compile csvs into jsons\n",
        "  * Have a json for comps and a json for teams\n",
        "* Create scoring system\n",
        "\n",
        "### In progress\n",
        "* Print a teams stats nicely\n",
        "* Show scores over time\n",
        "\n",
        "### TODO\n",
        "\n",
        "# Sprint Task List\n",
        "\n",
        "#### Complete\n",
        "\n",
        "#### In progress\n",
        "* Iterate through team matches and print nicely\n",
        "* Create class to hold team name\n",
        "\n",
        "#### TODO\n",
        "\n",
        "# Json format:\n",
        "\n",
        "## Comps:\n",
        "    {\n",
        "      \"CompName\":{\n",
        "        \"Matches\":[\n",
        "          [\n",
        "            \"matchName\",\n",
        "            compId,\n",
        "            [redScore, blueScore],\n",
        "            [red1, red2],\n",
        "            [blue1, blue2],\n",
        "            \"winner\"\n",
        "          ]\n",
        "        ],\n",
        "        \"Skills\": [\n",
        "          [\n",
        "            \"TeamName\",\n",
        "            [autonScore, driverScore]\n",
        "          ]\n",
        "        ]\n",
        "      }\n",
        "    }\n",
        "## Scores:\n",
        "\n",
        "    {\n",
        "      \"teamNumber\": [\n",
        "        score1,\n",
        "        score2,\n",
        "        score3...\n",
        "      ]\n",
        "    }\n",
        "\n",
        "## Teams:\n",
        "\n",
        "    {\n",
        "      \"teamNumber\": {\n",
        "        \"Matches: [\n",
        "          \"referenceToCompsJsonMatchIndex\",\n",
        "        ],\n",
        "        \"Skills\": [\n",
        "\n",
        "        ]\n",
        "      }\n",
        "    }\n",
        "\n",
        "\n"
      ]
    }
  ]
}