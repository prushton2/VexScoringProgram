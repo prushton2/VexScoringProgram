{
  "nbformat": 4,
  "nbformat_minor": 0,
  "metadata": {
    "colab": {
      "name": "RoboticsScoreProgram.ipynb",
      "provenance": [],
      "collapsed_sections": [],
      "toc_visible": true,
      "include_colab_link": true
    },
    "kernelspec": {
      "name": "python3",
      "display_name": "Python 3"
    }
  },
  "cells": [
    {
      "cell_type": "markdown",
      "metadata": {
        "id": "view-in-github",
        "colab_type": "text"
      },
      "source": [
        "<a href=\"https://colab.research.google.com/github/prushton2/VexScoringProgram/blob/master/RoboticsScoreProgram.ipynb\" target=\"_parent\"><img src=\"https://colab.research.google.com/assets/colab-badge.svg\" alt=\"Open In Colab\"/></a>"
      ]
    },
    {
      "cell_type": "markdown",
      "metadata": {
        "id": "XnlfWGUe15Hk",
        "colab_type": "text"
      },
      "source": [
        "# Mount Google Drive\n"
      ]
    },
    {
      "cell_type": "code",
      "metadata": {
        "id": "QtKs3yP_eSxa",
        "colab_type": "code",
        "outputId": "5427c22a-1449-4494-8ae6-48f354af84a1",
        "colab": {
          "base_uri": "https://localhost:8080/",
          "height": 34
        }
      },
      "source": [
        "from google.colab import drive\n",
        "drive.mount('/content/drive', force_remount=False)"
      ],
      "execution_count": 3,
      "outputs": [
        {
          "output_type": "stream",
          "text": [
            "Drive already mounted at /content/drive; to attempt to forcibly remount, call drive.mount(\"/content/drive\", force_remount=True).\n"
          ],
          "name": "stdout"
        }
      ]
    },
    {
      "cell_type": "markdown",
      "metadata": {
        "id": "UA7u3H1sKpp6",
        "colab_type": "text"
      },
      "source": [
        "# Resources:\n",
        "\n",
        "https://colab.research.google.com/notebooks/forms.ipynb#scrollTo=3jKM6GfzlgpS\n",
        "https://colab.research.google.com/notebooks/widgets.ipynb"
      ]
    },
    {
      "cell_type": "markdown",
      "metadata": {
        "id": "vwKM16pJaJ8j",
        "colab_type": "text"
      },
      "source": [
        "# Class definitions"
      ]
    },
    {
      "cell_type": "markdown",
      "metadata": {
        "id": "PXJYezb31zXG",
        "colab_type": "text"
      },
      "source": [
        "## Json manager class"
      ]
    },
    {
      "cell_type": "code",
      "metadata": {
        "id": "52zP3yhEZc7q",
        "colab_type": "code",
        "colab": {}
      },
      "source": [
        "import matplotlib.pyplot as plt\n",
        "import csv\n",
        "import json\n",
        "from termcolor import colored, cprint \n",
        "import time \n",
        "import os\n",
        "import sys\n",
        "import google.colab as colab\n",
        "\n",
        "\n",
        "null = None #I can't be bothered to remember null is None in python, and booleans are capital\n",
        "true = True\n",
        "false = False\n",
        "\n",
        "\n",
        "class JsonManager:\n",
        "  def __init__(self, path, fType): # fType should be 'score', 'comp', or 'team' depending on which json file is being opened Currently unused\n",
        "    self.path = path\n",
        "    self.fType = fType\n",
        "  def load(self):\n",
        "    #opens json file and returns data\n",
        "    with open(self.path, mode=\"r\") as theFile:\n",
        "      return json.load(theFile) \n",
        "      \n",
        "  def save(self, data):\n",
        "    #opens json file and saves data\n",
        "    with open(self.path, mode=\"w\") as theFile:\n",
        "      json.dump(data, theFile)\n",
        "\n",
        "  def addData(self, key, value, function): #Adds data to a json key, but abstracted. \n",
        "    jsonFile = self.load()#JsonManager.open()\n",
        "\n",
        "    if(function == 'set'): #Higher level way to set json. Used to be useful, not as useful now\n",
        "      exec(\"jsonFile\"+str(key)+\" = \"+str(value))\n",
        "    elif(function == 'append'):\n",
        "      exec(\"jsonFile\"+str(key)+\".append(\"+str(value)+\")\")\n",
        "    else:\n",
        "      raise ValueError(\"The function parameter must be 'set' or 'append', not\", function)\n",
        "    self.save(jsonFile)\n",
        "\n",
        "  "
      ],
      "execution_count": 0,
      "outputs": []
    },
    {
      "cell_type": "markdown",
      "metadata": {
        "id": "fd-oma4N1zOd",
        "colab_type": "text"
      },
      "source": [
        "## Competition Manager"
      ]
    },
    {
      "cell_type": "code",
      "metadata": {
        "id": "lcBFQR0oZ0Uz",
        "colab_type": "code",
        "colab": {}
      },
      "source": [
        "class Comp: #This is used as a datatype to hold the data for a competition\n",
        "  def __init__(self, id, name, date, path):\n",
        "    self.id = id;\n",
        "    self.name = name;\n",
        "    self.date = date;\n",
        "    self.path = path;\n",
        "\n",
        "  \n",
        "\n",
        "class AllComps: #This is to organize the comps\n",
        "  def __init__(self, compList):\n",
        "    self.compList = compList;\n",
        "  def getCompFromId(self, id):\n",
        "    for i in self.compList:\n",
        "      if(i.id == id):\n",
        "        return i"
      ],
      "execution_count": 0,
      "outputs": []
    },
    {
      "cell_type": "markdown",
      "metadata": {
        "id": "7OOAGRfsKBHf",
        "colab_type": "text"
      },
      "source": [
        "## Compiler\n",
        "\n",
        "The compiler class will take the CSV files and will format and store them in the json files."
      ]
    },
    {
      "cell_type": "code",
      "metadata": {
        "id": "C267r9lcKA0I",
        "colab_type": "code",
        "colab": {}
      },
      "source": [
        "class Compiler:\n",
        "  def __init__(self, comps):\n",
        "    self.comps = comps;\n",
        "\n",
        "  def setCompIDs(self, comps):\n",
        "    self.comps = comps\n",
        "  \n",
        "  def compileComps(self): # Will compile the csv data into the comp json file.\n",
        "    for thisComp in self.comps:\n",
        "\n",
        "      compFile.addData('['+str(thisComp.id)+']', {\"Matches\":[],\"Skills\":[]}, 'set') #Initialize the comp in the json file\n",
        "\n",
        "      with open(thisComp.path, mode='r') as thisFile: #Open the respective csv file\n",
        "        reader = csv.DictReader(thisFile)\n",
        "        line_count=0\n",
        "\n",
        "        for row in reader: #Iterate through each row, as each row represents a match\n",
        "          print(\"Adding match\", row[\"Match\"], \"of comp\", thisComp.name)\n",
        "\n",
        "          if(int(row[\"Red Score\"]) > int(row[\"Blue Score\"])): #I find the winning team and store it in the json for easy use later\n",
        "            winner = 'Red'\n",
        "          elif(int(row[\"Blue Score\"]) > int(row[\"Red Score\"])):\n",
        "            winner = 'Blue'\n",
        "          else:\n",
        "            winner = null\n",
        "\n",
        "          thisMatch = [ #This is the jagged list that stores the entire competition\n",
        "            row[\"Match\"],\n",
        "            thisComp.id, \n",
        "            [int(row[\"Red Score\"]), int(row[\"Blue Score\"])],\n",
        "            [row[\"Red Team (1)\"], row[\"Red Team (2)\"]], \n",
        "            [row[\"Blue Team (1)\"], row[\"Blue Team (2)\"]],\n",
        "            winner\n",
        "          ]\n",
        "\n",
        "          compFile.addData('[\"'+str(thisComp.id)+'\"][\"Matches\"]', thisMatch, 'append') #Add the comp list to the json file\n",
        "  \n",
        "  def compileTeams(self): # This compiles every match every team has played into the teams json. Format is in the structure block\n",
        "    json = compFile.load() #I iterate through the compFile json because it is easier for me to write\n",
        "    for i in json: #For each comp \n",
        "      for j in json[i][\"Matches\"]: #For each match\n",
        "        for k in j[3]:# For each red alliance team\n",
        "          try: #If we can't add the data to the team, the team probably doesnt exist. The try statement will create the team if the team doesnt exist already\n",
        "            teamFile.addData(\"['\"+k+\"']['Matches']\", j, 'append')\n",
        "            print(\"Added\", j, \"to team\", k)\n",
        "          except:\n",
        "            teamFile.addData(\"['\"+k+\"']\", {\"Matches\":[j],\"Skills\":[]}, 'set')\n",
        "            print(\"Created team\", k, \"with match\", j)\n",
        "        for k in j[4]: #For each blue alliance team\n",
        "          try:\n",
        "            teamFile.addData(\"['\"+k+\"']['Matches']\", j, 'append')\n",
        "            print(\"Added\", j, \"to team\", k)\n",
        "          except:\n",
        "            teamFile.addData(\"['\"+k+\"']\", {\"Matches\":[j],\"Skills\":[]}, 'set')\n",
        "            print(\"Created team\", k, \"with match\", j)\n",
        "\n",
        "  def compileScores(self): #This calculates and saves the scores into a json file. The score class is responsible for ranking the teams and re-saving the json\n",
        "    scores = scoreFile.load();\n",
        "    teams = teamFile.load();\n",
        "    for team in teams: #Iterate through each team\n",
        "      scoreFile.addData(\"['\"+team+\"']\", [0], 'set') #Initialize each team with a score of 0\n",
        "      print(\"Created a record for team\", team, \"with 0 points\")\n",
        "      for match in teams[team][\"Matches\"]:\n",
        "        scores = scoreFile.load();\n",
        "\n",
        "        if(match[5] == 'Red'): #Create the number to add/subtract to the players score, saved as delta\n",
        "          delta =  (int(match[2][0]) / (int(match[2][0]) + int(match[2][1])))*100 #The logic for this math is in the structure blockk\n",
        "        if(match[5] == 'Blue'):\n",
        "          delta =  (int(match[2][1]) / (int(match[2][0]) + int(match[2][1])))*100\n",
        "        if(match[5] == null):\n",
        "          delta = 0\n",
        "        \n",
        "        if(not(MatchHandler.hasWon(team, match))): #Invert the value if the team lost, making them lose points if they lost\n",
        "          delta *= -1;\n",
        "\n",
        "\n",
        "        z = (scores[team][-1] + delta) #I used the z variable because it kept the code readable\n",
        "        scoreFile.addData('[\"'+team+'\"]', z, 'append')\n",
        "        print(\"Added\", delta, \"points to the record for team\", team)\n",
        "\n",
        "          \n",
        "        \n"
      ],
      "execution_count": 0,
      "outputs": []
    },
    {
      "cell_type": "markdown",
      "metadata": {
        "id": "Ksl-X3m4Tphm",
        "colab_type": "text"
      },
      "source": [
        "## Match Handler"
      ]
    },
    {
      "cell_type": "code",
      "metadata": {
        "id": "TiyR4CJjTrm-",
        "colab_type": "code",
        "colab": {}
      },
      "source": [
        "class MatchHandler: #Basic static class, used to make my life easier in coding the compilers\n",
        "  @staticmethod\n",
        "      \n",
        "  def getColor(team, match):\n",
        "    if(team == match[3][0] or team == match[3][1]):\n",
        "      return \"Red\"\n",
        "    if(team == match[4][0] or team == match[4][1]):\n",
        "      return \"Blue\"\n",
        "\n",
        "  def hasWon(team, match):\n",
        "    if(MatchHandler.getColor(team, match) == match[5]):\n",
        "      return True\n",
        "    else:\n",
        "      return False # set cube stack"
      ],
      "execution_count": 0,
      "outputs": []
    },
    {
      "cell_type": "markdown",
      "metadata": {
        "id": "LafdCIEvMxQz",
        "colab_type": "text"
      },
      "source": [
        "## Team Class"
      ]
    },
    {
      "cell_type": "code",
      "metadata": {
        "id": "6H_uxiwZMxct",
        "colab_type": "code",
        "colab": {}
      },
      "source": [
        "class Team:\n",
        "  def __init__(self, teamName):\n",
        "    self.team = teamName;\n",
        "\n",
        "  def hasCategory(self, category, categories):\n",
        "    return category in categories or \"all\" == categories\n",
        "\n",
        "  def showStats(self, categories):\n",
        "    if(self.hasCategory(\"matches\", categories)):\n",
        "      teams = teamFile.load();\n",
        "      for i in teams[self.team][\"Matches\"]:\n",
        "        print(allComps.getCompFromId(i[1]).name, \"on\", allComps.getCompFromId(i[1]).date, \"   |   \", end=\"\")\n",
        "        \n",
        "        if(MatchHandler.hasWon(self.team, i)):\n",
        "          color='green'\n",
        "        elif(i[5] == null):\n",
        "          if(i[2][0] == 0 and i[2][1] == 0):\n",
        "            color = 'yellow'\n",
        "          else:\n",
        "            color='grey'\n",
        "        else:\n",
        "          color='red'\n",
        "        \n",
        "        print(colored(i[0], color, attrs=['reverse', 'blink']), end='')\n",
        "        print(\"  |  \", end='')\n",
        "\n",
        "        if(i[5] == null):\n",
        "          if(i[2][0] == 0 and i[2][1] == 0):\n",
        "            print(colored(i[3][0]+\", \"+i[3][1]+\" : \"+str(i[2][0])+\" vs \"+str(i[2][1])+\" : \"+i[4][0]+\", \"+i[4][1], 'yellow'), end='')            \n",
        "          else:\n",
        "            print(colored(i[3][0]+\", \"+i[3][1]+\" : \"+str(i[2][0])+\" vs \"+str(i[2][1])+\" : \"+i[4][0]+\", \"+i[4][1], 'grey'), end='')\n",
        "\n",
        "        if(i[5] == 'Red'):\n",
        "          print(colored(i[3][0]+\", \"+i[3][1]+\" : \"+str(i[2][0])+\" vs \", 'red'), end='')\n",
        "          print(str(i[2][1])+\" : \"+i[4][0]+\", \"+i[4][1], end='')\n",
        "\n",
        "        if(i[5] == 'Blue'):\n",
        "          print(i[3][0]+\", \"+i[3][1]+\" : \"+str(i[2][0]), end='')\n",
        "          print(colored(\" vs \"+str(i[2][1])+\" : \"+i[4][0]+\", \"+i[4][1], 'blue'), end='')\n",
        "\n",
        "        print(\"\")\n",
        "\n",
        "    if(self.hasCategory(\"scores\", categories)):\n",
        "      mplCreator.newPlot(false, s1.getScores(self.team), 'Scores')\n",
        "\n",
        "    if(self.hasCategory(\"rank\", categories)):\n",
        "      print(self.team, \"is placed\", str(s1.getRank(self.team))+\"/\"+str(s1.getTeamCount()), end='')   \n",
        "\n",
        "    if(self.hasCategory(\"score\", categories)):\n",
        "      if(self.hasCategory(\"rank\", categories)):\n",
        "        print(\" and has\", s1.getScore(self.team), \"points\")\n",
        "      else:\n",
        "        print(self.team, \"has\", s1.getScore(self.team), 'points')\n",
        "    print('')\n",
        "    \n",
        "        \n",
        "        \n",
        "          "
      ],
      "execution_count": 0,
      "outputs": []
    },
    {
      "cell_type": "markdown",
      "metadata": {
        "id": "PYuURiGlnHoo",
        "colab_type": "text"
      },
      "source": [
        "## Matplotlib Creators"
      ]
    },
    {
      "cell_type": "code",
      "metadata": {
        "id": "jY1Vw_PfnHcS",
        "colab_type": "code",
        "colab": {}
      },
      "source": [
        "class mplCreator: #Makes a dark theme plot of two given arrays. The plot also draws lines between the points with different colors\n",
        "  @staticmethod\n",
        "  def getArrayOfLength(length):\n",
        "    array = []\n",
        "    for i in range(length):\n",
        "      array.append(i)\n",
        "    return array\n",
        "\n",
        "  def newPlot(xArray, yArray, title):\n",
        "    fig, ax = plt.subplots()\n",
        "    #Create a plot instance\n",
        "    \n",
        "    #make it dark\n",
        "    # https://matplotlib.org/3.1.1/tutorials/introductory/customizing.html\n",
        "    plt.rcParams.update({\n",
        "        \"lines.color\": \"white\",\n",
        "        \"patch.edgecolor\": \"white\",\n",
        "        \"text.color\": \"black\",\n",
        "        \"axes.facecolor\": \"black\",\n",
        "        \"axes.edgecolor\": \"lightgray\",\n",
        "        \"axes.labelcolor\": \"white\",\n",
        "        \"xtick.color\": \"white\",\n",
        "        \"ytick.color\": \"white\",\n",
        "        \"grid.color\": \"lightgray\",\n",
        "        \"figure.facecolor\": \"black\",\n",
        "        \"figure.edgecolor\": \"black\",\n",
        "        \"savefig.facecolor\": \"black\",\n",
        "        \"savefig.edgecolor\": \"black\"})\n",
        "    #Place points on the graph\n",
        "    if(xArray == False and yArray == False):\n",
        "      print(\"We need a list, not 2 booleans\")\n",
        "    if(xArray == False):\n",
        "      xArray = mplCreator.getArrayOfLength(len(yArray))\n",
        "    if(yArray == False):\n",
        "      yArray = mplCreator.getArrayOfLength(len(xArray))\n",
        "\n",
        "    for i in range(len(yArray)):#Color in the lines fron point to point based on gain or loss\n",
        "      try:\n",
        "        if(yArray[i] > yArray[i+1]):\n",
        "          ax.plot([xArray[i], xArray[i+1]], [yArray[i], yArray[i+1]], color='r')\n",
        "        elif(yArray[i] < yArray[i+1]):\n",
        "          ax.plot([xArray[i], xArray[i+1]], [yArray[i], yArray[i+1]], color='g')\n",
        "        else:\n",
        "          ax.plot([xArray[i], xArray[i+1]], [yArray[i], yArray[i+1]], color='b')\n",
        "      except:\n",
        "        print(\"\")\n",
        "    ax.scatter(xArray, yArray)\n",
        "    #Set the title\n",
        "    ax.set_title(title)\n",
        "    #Show the plot\n",
        "    fig.show()"
      ],
      "execution_count": 0,
      "outputs": []
    },
    {
      "cell_type": "markdown",
      "metadata": {
        "id": "qBiWE21piCOF",
        "colab_type": "text"
      },
      "source": [
        "## Score Class"
      ]
    },
    {
      "cell_type": "code",
      "metadata": {
        "id": "B9Zzkt35iCnk",
        "colab_type": "code",
        "colab": {}
      },
      "source": [
        "class Score:\n",
        "  def __init__(self):\n",
        "    self.Ranks = []\n",
        "  \n",
        "\n",
        "  def rankTeams(self):\n",
        "    IMM_scores = scoreFile.load()\n",
        "    self.Ranks = []\n",
        "    self.teams = []\n",
        "    self.newScores = {}\n",
        "    for i in IMM_scores:\n",
        "      self.teams.append(i)\n",
        "    print(self.teams)\n",
        "\n",
        "    for team in IMM_scores:\n",
        "      teamScore = IMM_scores[team][-1]\n",
        "      rankFound = false\n",
        "      print(team)\n",
        "\n",
        "      for i in range(len(self.Ranks)):\n",
        "        print(self.Ranks[i], \":\", IMM_scores[self.Ranks[i]][-1], \"||\", end='')\n",
        "\n",
        "\n",
        "      if(self.Ranks == []):\n",
        "        self.Ranks = [team]\n",
        "        print(\"--- Initialized ranks with team\", team)\n",
        "      else:\n",
        "        i=-1\n",
        "        while(not(rankFound)):\n",
        "          i += 1\n",
        "          # print(\"--- Index:\", i)\n",
        "          try:\n",
        "            comparisonScore = IMM_scores[self.Ranks[i]][-1]\n",
        "            # print(\"--- Comparison: Team:\", self.Ranks[i], \"Score:\", comparisonScore)\n",
        "            # print(\"--- This: Team:\", team, \"Score:\", teamScore)\n",
        "\n",
        "            if(teamScore > comparisonScore):\n",
        "              # print(\"---\", teamScore, \">\", comparisonScore)\n",
        "              print(\"--- found a spot for\", team, \"at place\", i)\n",
        "              rankFound = true\n",
        "              self.Ranks.insert(i, team)\n",
        "            else:\n",
        "              pass\n",
        "              # print(\"---\", teamScore, \"<\", comparisonScore)\n",
        "          except:\n",
        "            rankFound = true\n",
        "            self.Ranks.append(team)\n",
        "            print(\"--- Hit list limit at\", i, \"appending\", team, \"to ranks list\")\n",
        "            i=-1\n",
        "      pass\n",
        "      self.newScores = {}\n",
        "      for i in self.Ranks:\n",
        "        self.newScores[i] = IMM_scores[i]\n",
        "        # print(i, newScores[i])\n",
        "      scoreFile.save(self.newScores)\n",
        "    \n",
        "  def getRank(self, givenTeam):\n",
        "    scores = scoreFile.load()\n",
        "    i = 0\n",
        "    for team in scores:\n",
        "      i += 1\n",
        "      if(givenTeam == team):\n",
        "        return i\n",
        "\n",
        "  def getScore(self, givenTeam):\n",
        "    scores = scoreFile.load()\n",
        "    for team in scores:\n",
        "      if(givenTeam == team):\n",
        "        return scores[team][-1]\n",
        "\n",
        "  def getScores(self, givenTeam):\n",
        "    scores = scoreFile.load()\n",
        "    for team in scores:\n",
        "      if(givenTeam == team):\n",
        "        return scores[team]\n",
        "\n",
        "  def getTeamCount(self):\n",
        "    i=0\n",
        "    scores = scoreFile.load()\n",
        "    for j in scores:\n",
        "      i += 1\n",
        "    return i\n",
        "\n",
        "  def showRanks(self):\n",
        "    scores = scoreFile.load()\n",
        "    i = 0\n",
        "    for team in scores:\n",
        "      i += 1\n",
        "      print(str(i)+\":\", team, \"with a score of\", scores[team][-1])"
      ],
      "execution_count": 0,
      "outputs": []
    },
    {
      "cell_type": "markdown",
      "metadata": {
        "id": "LnOYOm8D3pL9",
        "colab_type": "text"
      },
      "source": [
        "## Printer"
      ]
    },
    {
      "cell_type": "code",
      "metadata": {
        "id": "5wYFg1l_3pCl",
        "colab_type": "code",
        "colab": {}
      },
      "source": [
        "class Printer:\n",
        "  def __init__(self):\n",
        "    self.List = []\n",
        "\n",
        "  def reset(self):\n",
        "    self.List = []\n",
        "\n",
        "  def Print(self):\n",
        "    Printer.clear(self)\n",
        "    for i in self.List:\n",
        "      for j in i:\n",
        "        print(j, end='')\n",
        "      print('')\n",
        "\n",
        "  def clear(self): \n",
        "    colab.output.clear()"
      ],
      "execution_count": 0,
      "outputs": []
    },
    {
      "cell_type": "markdown",
      "metadata": {
        "id": "9b17lzILBItj",
        "colab_type": "text"
      },
      "source": [
        "# Instantiations"
      ]
    },
    {
      "cell_type": "code",
      "metadata": {
        "id": "9YLj2OFjBLmC",
        "colab_type": "code",
        "colab": {},
        "cellView": "both"
      },
      "source": [
        "localpath = \"/content/drive/My Drive/RoboticsScoreProgram\" #If you are using this on your local machine, change the path to fit your case\n",
        "compList = [\n",
        "            Comp(0.0,  \"CTEEA Hall High School\",              \"10/19/19\", localpath+\"/Competitions/VRC_10_19_19_Hartford.csv\"),\n",
        "            Comp(1.0,  \"QCC Fall Classic\",                    \"11/02/19\", localpath+\"/Competitions/VRC_11_02_19_Madison.csv\"),\n",
        "            Comp(2.0,  \"Daniel Hand High School\",             \"11/02/19\", localpath+\"/Competitions/VRC_11_02_19_QCC.csv\"),\n",
        "            Comp(3.0,  \"Framingham\",                          \"11/09/19\", localpath+\"/Competitions/VRC_11_09_19_Framingham.csv\"),\n",
        "            Comp(4.0,  \"Danbury High\",                        \"11/16/19\", localpath+\"/Competitions/VRC_11_16_19_Monroe.csv\"),\n",
        "            Comp(5.0,  \"North Andover\",                       \"11/23/19\", localpath+\"/Competitions/VRC_11_23_19_NorthAndover.csv\"),\n",
        "            Comp(6.0,  \"Hopkinton\",                           \"12/07/19\", localpath+\"/Competitions/VRC_12_07_19_Hopkinton.csv\"),\n",
        "            Comp(7.0,  \"CTEEA Masuk\",                         \"12/07/19\", localpath+\"/Competitions/VRC_12_07_19_Masuk.csv\"),\n",
        "            Comp(8.0,  \"QCC Winter Classic\",                  \"12/21/19\", localpath+\"/Competitions/VRC_12_21_19_QCC.csv\"),\n",
        "            Comp(9.0,  \"CTEEA Bolton CT\",                     \"01/04/20\", localpath+\"/Competitions/VRC_01_04_20_CTEEABolton.csv\"),\n",
        "            Comp(10.0, \"Taking the New Year's Tower at QCC\",  \"01/04/20\", localpath+\"/Competitions/VRC_01_04_20_QCC.csv\"),\n",
        "            Comp(11.0, \"CTEEA Middleton\",                     \"01/11/20\", localpath+\"/Competitions/VRC_01_11_20_CTEEAMiddleton.csv\"),\n",
        "            Comp(12.0, \"The Wave at WPI\",                     \"01/16/20\", localpath+\"/Competitions/VRC_01_16_20_Wave.csv\"),\n",
        "            Comp(13.0, \"Hopkinton\",                           \"01/19/20\", localpath+\"/Competitions/VRC_01_19_20_Hopkinton.csv\"),\n",
        "            Comp(14.0, \"North Andover\",                       \"01/25/20\", localpath+\"/Competitions/VRC_01_25_20_NorthAndover.csv\")\n",
        "\n",
        "]\n",
        "\n",
        "allComps = AllComps(compList)\n",
        "compiler = Compiler(compList)\n",
        "\n",
        "s1 = Score()\n",
        "printer = Printer()\n",
        "\n",
        "compFile = JsonManager(localpath+\"/Json/Comps.json\", 'comp')\n",
        "teamFile = JsonManager(localpath+\"/Json/Teams.json\", 'team')\n",
        "scoreFile = JsonManager(localpath+\"/Json/Scores.json\", 'score')"
      ],
      "execution_count": 0,
      "outputs": []
    },
    {
      "cell_type": "markdown",
      "metadata": {
        "id": "sTTilc3b6rEV",
        "colab_type": "text"
      },
      "source": [
        "# Compiling\n",
        "Compiles the CSV files into the JSON files\n",
        "Only run if the CSV files were updated, or the compiler code was changed"
      ]
    },
    {
      "cell_type": "code",
      "metadata": {
        "id": "oTQ-yNk86s_D",
        "colab_type": "code",
        "colab": {}
      },
      "source": [
        "if(false): #This compiles the CSV files to the JSON files. Do not run unless you have made changes to the CSV files or the compiler code\n",
        "  startTime = time.time()\n",
        "  compFile.save({})\n",
        "  teamFile.save({})\n",
        "  scoreFile.save({})\n",
        "\n",
        "  compiler.compileComps()\n",
        "  compiler.compileTeams()\n",
        "  compiler.compileScores()\n",
        "\n",
        "  s1.rankTeams()\n",
        "\n",
        "  print(\"Operation took\", time.time()-startTime,\"seconds\")\n"
      ],
      "execution_count": 0,
      "outputs": []
    },
    {
      "cell_type": "markdown",
      "metadata": {
        "id": "zKkK6DxjIUlV",
        "colab_type": "text"
      },
      "source": [
        "# Show teams with the given number"
      ]
    },
    {
      "cell_type": "code",
      "metadata": {
        "id": "vKVn4GDtra-a",
        "colab_type": "code",
        "outputId": "21362d05-e65d-479e-bbd3-f9bf43923cd8",
        "colab": {
          "base_uri": "https://localhost:8080/",
          "height": 407
        },
        "cellView": "form"
      },
      "source": [
        "teams = teamFile.load()\n",
        "Team_Number = \"16\" #@param {type:\"string\"}\n",
        "printer.reset()\n",
        "for i in teams:\n",
        "  if Team_Number in i:\n",
        "    printer.List.append([i])\n",
        "printer.Print()\n",
        "\n"
      ],
      "execution_count": 36,
      "outputs": [
        {
          "output_type": "stream",
          "text": [
            "1695C\n",
            "1697B\n",
            "1697A\n",
            "1695B\n",
            "1695A\n",
            "1695E\n",
            "1695D\n",
            "169Y\n",
            "4716A\n",
            "4716D\n",
            "1618A\n",
            "162A\n",
            "16738B\n",
            "1615A\n",
            "4716C\n",
            "4716B\n",
            "169Z\n",
            "169E\n",
            "2616Z\n",
            "169A\n",
            "169X\n",
            "16738A\n"
          ],
          "name": "stdout"
        }
      ]
    },
    {
      "cell_type": "markdown",
      "metadata": {
        "id": "yEkpdhPeMoru",
        "colab_type": "text"
      },
      "source": [
        "# Show a team's scores"
      ]
    },
    {
      "cell_type": "code",
      "metadata": {
        "id": "TAqvknl5Mo-E",
        "colab_type": "code",
        "cellView": "form",
        "colab": {}
      },
      "source": [
        "team = \"977Z\" #@param {type:\"string\"}\n",
        "Matches = True #@param {type:\"boolean\"}\n",
        "Score = True #@param {type:\"boolean\"}\n",
        "ScorePlot = True #@param {type:\"boolean\"}\n",
        "Rank = True #@param {type:\"boolean\"}\n",
        "\n",
        "List = []\n",
        "\n",
        "if(Matches):\n",
        "  List.append(\"matches\")\n",
        "if(Score):\n",
        "  List.append(\"score\")\n",
        "if(ScorePlot):\n",
        "  List.append(\"scores\")\n",
        "if(Rank):\n",
        "  List.append(\"rank\")\n",
        "\n",
        "aTeam = Team(team)\n",
        "\n",
        "aTeam.showStats(List) #Instead of all, can be a list containing: 'matches', 'scores', 'score', 'rank'"
      ],
      "execution_count": 0,
      "outputs": []
    },
    {
      "cell_type": "markdown",
      "metadata": {
        "id": "GeltNc2IPbpV",
        "colab_type": "text"
      },
      "source": [
        "# Show scores of teams in a list"
      ]
    },
    {
      "cell_type": "code",
      "metadata": {
        "id": "AcgqMvSoPbYr",
        "colab_type": "code",
        "colab": {},
        "cellView": "form"
      },
      "source": [
        "teamList = [ \"785A\", \"785B\", \"817B\", \"817F\", \"977Z\", \"2442A\", \"2442E\", \"2442F\", \"2602A\", \"2602B\", \"2602C\", \"2602D\", \"2602E\", \"2602F\", \"2602G\", \"2602H\", \"2602K\", \"2602M\", \"2606A\", \"2606B\", \"2606C\", \"3379B\", \"4344Y\", \"4344Z\", \"4898A\", \"4898B\", \"4898C\", \"5313A\", \"5313B\", \"5313C\", \"8568A\", \"8568B\", \"8568C\", \"8568D\", \"8568E\", \"8568F\", \"8568G\", \"8568H\", \"8568J\", \"8568K\", \"8568X\", \"8884A\", \"8884B\", \"9421R\", \"9421V\", \"9421X\", \"16738A\", \"16738B\", \"16738C\", \"25600H\", \"25600X\", \"29718A\", \"63857A\", \"63857B\", \"63857D\", \"63857E\", \"76645A\", \"99928A\", \"99928B\", \"99928C\", \"99928D\", \"99928E\" ] #@param {type:\"raw\"}\n",
        "compName = \"North Andover\" #@param {type:\"string\"}\n",
        "\n",
        "print(f\"Everyone going to {compName} on 1/25/20\")\n",
        "print('')\n",
        "print(\"Predicted rank, Current rank, Number, Score\")\n",
        "print('')\n",
        "\n",
        "scores = scoreFile.load()\n",
        "i = 0\n",
        "for team in scores:\n",
        "  if team in teamList:\n",
        "    i += 1\n",
        "    print(i, \"|\", s1.getRank(team), \"|\", team, \"|\", s1.getScore(team))"
      ],
      "execution_count": 0,
      "outputs": []
    },
    {
      "cell_type": "markdown",
      "metadata": {
        "id": "jm5ip0jlNrNV",
        "colab_type": "text"
      },
      "source": [
        "# Show SNE team rankings"
      ]
    },
    {
      "cell_type": "code",
      "metadata": {
        "id": "IKr5jv8oCGu-",
        "colab_type": "code",
        "colab": {}
      },
      "source": [
        "s1.showRanks();"
      ],
      "execution_count": 0,
      "outputs": []
    },
    {
      "cell_type": "markdown",
      "metadata": {
        "id": "l8SZIzhE2JFx",
        "colab_type": "text"
      },
      "source": [
        "# Structure\n",
        "* Json Files\n",
        "  * Competitions:\n",
        "    * Holds every played match sorted by competition then time\n",
        "  * Scores\n",
        "    * Holds every team's score, and their score over time stored in a list\n",
        "  * Teams\n",
        "    * Stores every team, and every match they have played.\n",
        "\n",
        "# Backlog\n",
        "\n",
        "### Complete\n",
        "* Create Json manager class\n",
        "* Create competition class\n",
        "* Create competition ID system\n",
        "* Read and compile csvs into jsons\n",
        "  * Have a json for comps and a json for teams\n",
        "* Create scoring system\n",
        "* Print a teams stats nicely\n",
        "* Show scores over time\n",
        "\n",
        "### In progress\n",
        "* Display competitions nicely\n",
        "\n",
        "### TODO\n",
        ".\n",
        "# Sprint Task List\n",
        "* Implement skills\n",
        "\n",
        "#### Complete\n",
        ".\n",
        "#### In progress\n",
        "* Create comp class\n",
        "\n",
        "#### TODO\n",
        "* Use similar print format from the teams match printing\n",
        "* Allow multiple comps to be shown at once\n",
        "* Allow highlighting of certain teams\n",
        "  * Also implement into the teams class\n",
        "\n",
        "# Json format:\n",
        "\n",
        "## Comps:\n",
        "    {\n",
        "      \"CompName\":{\n",
        "        \"Matches\":[\n",
        "          [\n",
        "            \"matchName\",\n",
        "            compId,\n",
        "            [redScore, blueScore],\n",
        "            [red1, red2],\n",
        "            [blue1, blue2],\n",
        "            \"winner\"\n",
        "          ]\n",
        "        ],\n",
        "        \"Skills\": [\n",
        "          [\n",
        "            \"TeamName\",\n",
        "            [autonScore, driverScore]\n",
        "          ]\n",
        "        ]\n",
        "      }\n",
        "    }\n",
        "## Scores:\n",
        "\n",
        "    {\n",
        "      \"teamNumber\": [\n",
        "        score1,\n",
        "        score2,\n",
        "        score3...\n",
        "      ]\n",
        "    }\n",
        "\n",
        "## Teams:\n",
        "\n",
        "    {\n",
        "      \"teamNumber\": {\n",
        "        \"Matches: [\n",
        "          \"referenceToCompsJsonMatchIndex\",\n",
        "        ],\n",
        "        \"Skills\": [\n",
        "\n",
        "        ]\n",
        "      }\n",
        "    }\n",
        "\n",
        "\n"
      ]
    }
  ]
}